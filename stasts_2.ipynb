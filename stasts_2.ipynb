{
 "cells": [
  {
   "cell_type": "code",
   "execution_count": 1,
   "id": "4fa4f7bf-9caa-4da1-acbb-cb214c35509a",
   "metadata": {},
   "outputs": [],
   "source": [
    "import pandas as pd \n",
    "import numpy as np \n",
    "import seaborn as sns\n",
    "import matplotlib.pyplot as plt"
   ]
  },
  {
   "cell_type": "code",
   "execution_count": 2,
   "id": "27f0ed34-2d80-438a-8ef4-75a1d77fb698",
   "metadata": {},
   "outputs": [],
   "source": [
    "df=sns.load_dataset('tips')"
   ]
  },
  {
   "cell_type": "code",
   "execution_count": 3,
   "id": "3b0a0299-f75f-44c6-afb8-471c1b71844c",
   "metadata": {},
   "outputs": [],
   "source": [
    "#measure of central tendency\n",
    "data=[1,2,3,4,5]"
   ]
  },
  {
   "cell_type": "markdown",
   "id": "63e73a44-9397-4501-8222-067c085cafb1",
   "metadata": {},
   "source": [
    "Mean"
   ]
  },
  {
   "cell_type": "code",
   "execution_count": 4,
   "id": "84dca14d-0ae0-4322-a815-67fe21f65abd",
   "metadata": {},
   "outputs": [
    {
     "data": {
      "text/plain": [
       "3.0"
      ]
     },
     "execution_count": 4,
     "metadata": {},
     "output_type": "execute_result"
    }
   ],
   "source": [
    "np.mean(data)"
   ]
  },
  {
   "cell_type": "code",
   "execution_count": 5,
   "id": "fd316b78-a571-4a3b-ab32-e7710e90c809",
   "metadata": {},
   "outputs": [
    {
     "data": {
      "text/plain": [
       "19.78594262295082"
      ]
     },
     "execution_count": 5,
     "metadata": {},
     "output_type": "execute_result"
    }
   ],
   "source": [
    "df['total_bill'].mean()"
   ]
  },
  {
   "cell_type": "code",
   "execution_count": 6,
   "id": "8bb15b89-4055-401b-ab16-027a692422b4",
   "metadata": {},
   "outputs": [
    {
     "data": {
      "text/plain": [
       "19.78594262295082"
      ]
     },
     "execution_count": 6,
     "metadata": {},
     "output_type": "execute_result"
    }
   ],
   "source": [
    "np.mean(df['total_bill'])"
   ]
  },
  {
   "cell_type": "markdown",
   "id": "952038ce-c876-4db4-8233-cc8acb0eaab7",
   "metadata": {},
   "source": [
    "Median"
   ]
  },
  {
   "cell_type": "code",
   "execution_count": 7,
   "id": "1fa0026c-2cf8-4036-8e67-a3fb988df7f5",
   "metadata": {},
   "outputs": [],
   "source": [
    "data=[1,2,3,4,500]"
   ]
  },
  {
   "cell_type": "code",
   "execution_count": 8,
   "id": "baf30f79-5dd4-43f0-9d42-d6d1f11d3ed7",
   "metadata": {},
   "outputs": [],
   "source": [
    "# np.mean(data) Cannot use mean for outlier 500 is outlier"
   ]
  },
  {
   "cell_type": "code",
   "execution_count": 9,
   "id": "3aed76be-8bb4-4339-beba-f7da6fcc5424",
   "metadata": {},
   "outputs": [
    {
     "data": {
      "text/plain": [
       "3.0"
      ]
     },
     "execution_count": 9,
     "metadata": {},
     "output_type": "execute_result"
    }
   ],
   "source": [
    "np.median(data) "
   ]
  },
  {
   "cell_type": "code",
   "execution_count": 10,
   "id": "acc460d7-38a6-49c1-9abd-c79152aa79d6",
   "metadata": {},
   "outputs": [
    {
     "data": {
      "text/plain": [
       "17.795"
      ]
     },
     "execution_count": 10,
     "metadata": {},
     "output_type": "execute_result"
    }
   ],
   "source": [
    "df['total_bill'].median()"
   ]
  },
  {
   "cell_type": "code",
   "execution_count": 11,
   "id": "fa43410c-954e-43c9-800a-e30de3f5cf89",
   "metadata": {},
   "outputs": [
    {
     "data": {
      "text/plain": [
       "17.795"
      ]
     },
     "execution_count": 11,
     "metadata": {},
     "output_type": "execute_result"
    }
   ],
   "source": [
    "np.median(df['total_bill'])"
   ]
  },
  {
   "cell_type": "markdown",
   "id": "ede0fa96-27db-46b0-b27d-46f40c6bed04",
   "metadata": {},
   "source": [
    "Mode"
   ]
  },
  {
   "cell_type": "code",
   "execution_count": 12,
   "id": "3fa939c2-0cbf-4b7a-8a91-7b62207f4257",
   "metadata": {},
   "outputs": [
    {
     "data": {
      "text/plain": [
       "2"
      ]
     },
     "execution_count": 12,
     "metadata": {},
     "output_type": "execute_result"
    }
   ],
   "source": [
    "import statistics\n",
    "data=[1,2,3,4,1,5,2,2]\n",
    "statistics.mode(data)"
   ]
  },
  {
   "cell_type": "markdown",
   "id": "e4a3cb2b-ecff-49af-a943-222632cea353",
   "metadata": {},
   "source": [
    "Percentile"
   ]
  },
  {
   "cell_type": "code",
   "execution_count": 13,
   "id": "e72c6955-c572-4bce-b6f1-3ae9dfb44c1c",
   "metadata": {},
   "outputs": [
    {
     "data": {
      "text/plain": [
       "array([3.])"
      ]
     },
     "execution_count": 13,
     "metadata": {},
     "output_type": "execute_result"
    }
   ],
   "source": [
    "data=[1,2,3,4,5]\n",
    "np.percentile(data,[50])#50% of the data is below 3"
   ]
  },
  {
   "cell_type": "code",
   "execution_count": 14,
   "id": "4d8a9219-2482-4411-8aae-293fcf1de8b9",
   "metadata": {},
   "outputs": [
    {
     "data": {
      "text/plain": [
       "array([2.  , 3.  , 4.  , 4.8 , 5.  , 4.64])"
      ]
     },
     "execution_count": 14,
     "metadata": {},
     "output_type": "execute_result"
    }
   ],
   "source": [
    "np.percentile(data,[25,50,75,95,100,91])"
   ]
  },
  {
   "cell_type": "code",
   "execution_count": 15,
   "id": "5aa1cfeb-5136-42a7-b301-41ab399392cc",
   "metadata": {},
   "outputs": [],
   "source": [
    "data=[1,2,3,3,3,3,4,20]"
   ]
  },
  {
   "cell_type": "code",
   "execution_count": 16,
   "id": "2e7171ca-ffff-4c26-9010-1a3ac658db6a",
   "metadata": {},
   "outputs": [],
   "source": [
    "data.append(-20)"
   ]
  },
  {
   "cell_type": "code",
   "execution_count": 17,
   "id": "8de907bb-e3fb-4cea-be21-b06137795d37",
   "metadata": {},
   "outputs": [
    {
     "data": {
      "text/plain": [
       "[1, 2, 3, 3, 3, 3, 4, 20, -20]"
      ]
     },
     "execution_count": 17,
     "metadata": {},
     "output_type": "execute_result"
    }
   ],
   "source": [
    "data"
   ]
  },
  {
   "cell_type": "code",
   "execution_count": 18,
   "id": "b0dd0734-095b-4de0-b499-1dfc87fe848f",
   "metadata": {},
   "outputs": [],
   "source": [
    "#outliers"
   ]
  },
  {
   "cell_type": "code",
   "execution_count": 19,
   "id": "84637b60-8158-4f22-b907-1ef559991f7d",
   "metadata": {},
   "outputs": [
    {
     "data": {
      "text/plain": [
       "<Axes: >"
      ]
     },
     "execution_count": 19,
     "metadata": {},
     "output_type": "execute_result"
    },
    {
     "data": {
      "image/png": "[encoded data removed]",
      "text/plain": [
       "<Figure size 640x480 with 1 Axes>"
      ]
     },
     "metadata": {},
     "output_type": "display_data"
    }
   ],
   "source": [
    "sns.boxplot(data)"
   ]
  },
  {
   "cell_type": "markdown",
   "id": "bb9d9df0-9add-4195-9b63-5658c8b6c566",
   "metadata": {},
   "source": [
    "Measure of Dispersion"
   ]
  },
  {
   "cell_type": "code",
   "execution_count": 20,
   "id": "54fe00a3-dd32-46ca-9b30-03b8cb28ca49",
   "metadata": {},
   "outputs": [],
   "source": [
    "data=[1,2,3,3,3,3,4,20,-20]"
   ]
  },
  {
   "cell_type": "code",
   "execution_count": 21,
   "id": "4aae72f8-ee75-4174-b97d-a9a3c1da7d06",
   "metadata": {},
   "outputs": [
    {
     "data": {
      "text/plain": [
       "[1, 2, 3, 3, 3, 3, 4, 20, -20]"
      ]
     },
     "execution_count": 21,
     "metadata": {},
     "output_type": "execute_result"
    }
   ],
   "source": [
    "data"
   ]
  },
  {
   "cell_type": "code",
   "execution_count": 22,
   "id": "f3b54a03-27cb-4b15-8cef-22c5d9fe8f8f",
   "metadata": {},
   "outputs": [
    {
     "data": {
      "text/plain": [
       "90.76543209876543"
      ]
     },
     "execution_count": 22,
     "metadata": {},
     "output_type": "execute_result"
    }
   ],
   "source": [
    "np.var(data) #Population variance"
   ]
  },
  {
   "cell_type": "code",
   "execution_count": 23,
   "id": "09a979f6-bab1-4afa-a8d6-b22fad82b2e7",
   "metadata": {},
   "outputs": [
    {
     "data": {
      "text/plain": [
       "9.527089382322673"
      ]
     },
     "execution_count": 23,
     "metadata": {},
     "output_type": "execute_result"
    }
   ],
   "source": [
    "np.std(data) "
   ]
  },
  {
   "cell_type": "code",
   "execution_count": 24,
   "id": "00d1aaf9-0183-421e-8f28-2d0361072647",
   "metadata": {},
   "outputs": [
    {
     "data": {
      "text/plain": [
       "102.11111111111111"
      ]
     },
     "execution_count": 24,
     "metadata": {},
     "output_type": "execute_result"
    }
   ],
   "source": [
    "statistics.variance(data) #Sample variance (n-1)"
   ]
  },
  {
   "cell_type": "code",
   "execution_count": 25,
   "id": "a2d095cd-8978-4b0f-aa2c-fb521db765e9",
   "metadata": {},
   "outputs": [
    {
     "data": {
      "text/plain": [
       "90.76543209876543"
      ]
     },
     "execution_count": 25,
     "metadata": {},
     "output_type": "execute_result"
    }
   ],
   "source": [
    "statistics.pvariance(data) #Population variance"
   ]
  },
  {
   "cell_type": "code",
   "execution_count": 26,
   "id": "2e7b31f8-d82a-45fe-bcf9-03272143760b",
   "metadata": {},
   "outputs": [
    {
     "data": {
      "text/plain": [
       "10.105004260816079"
      ]
     },
     "execution_count": 26,
     "metadata": {},
     "output_type": "execute_result"
    }
   ],
   "source": [
    "import math\n",
    "math.sqrt(statistics.variance(data)) # std"
   ]
  },
  {
   "cell_type": "code",
   "execution_count": 27,
   "id": "bdd99571-c550-4206-8749-331301de9eb9",
   "metadata": {},
   "outputs": [
    {
     "data": {
      "text/plain": [
       "9"
      ]
     },
     "execution_count": 27,
     "metadata": {},
     "output_type": "execute_result"
    }
   ],
   "source": [
    "#population size\n",
    "len(data)"
   ]
  },
  {
   "cell_type": "code",
   "execution_count": 28,
   "id": "c96ec9c1-6ebc-477a-80e0-6f8ecae82401",
   "metadata": {},
   "outputs": [
    {
     "data": {
      "text/plain": [
       "8"
      ]
     },
     "execution_count": 28,
     "metadata": {},
     "output_type": "execute_result"
    }
   ],
   "source": [
    "#Sample size (n-1)\n",
    "len(data)-1"
   ]
  },
  {
   "cell_type": "markdown",
   "id": "54ecd5cc-5761-4827-a252-f1d72626002d",
   "metadata": {},
   "source": [
    "how to know relationship between two features -> correlation and covariance"
   ]
  },
  {
   "cell_type": "code",
   "execution_count": 29,
   "id": "66169a24-ad34-42dd-a467-21748e67e3ce",
   "metadata": {},
   "outputs": [
    {
     "data": {
      "text/html": [
       "<div>\n",
       "<style scoped>\n",
       "    .dataframe tbody tr th:only-of-type {\n",
       "        vertical-align: middle;\n",
       "    }\n",
       "\n",
       "    .dataframe tbody tr th {\n",
       "        vertical-align: top;\n",
       "    }\n",
       "\n",
       "    .dataframe thead th {\n",
       "        text-align: right;\n",
       "    }\n",
       "</style>\n",
       "<table border=\"1\" class=\"dataframe\">\n",
       "  <thead>\n",
       "    <tr style=\"text-align: right;\">\n",
       "      <th></th>\n",
       "      <th>total_bill</th>\n",
       "      <th>tip</th>\n",
       "      <th>size</th>\n",
       "    </tr>\n",
       "  </thead>\n",
       "  <tbody>\n",
       "    <tr>\n",
       "      <th>total_bill</th>\n",
       "      <td>1.000000</td>\n",
       "      <td>0.675734</td>\n",
       "      <td>0.598315</td>\n",
       "    </tr>\n",
       "    <tr>\n",
       "      <th>tip</th>\n",
       "      <td>0.675734</td>\n",
       "      <td>1.000000</td>\n",
       "      <td>0.489299</td>\n",
       "    </tr>\n",
       "    <tr>\n",
       "      <th>size</th>\n",
       "      <td>0.598315</td>\n",
       "      <td>0.489299</td>\n",
       "      <td>1.000000</td>\n",
       "    </tr>\n",
       "  </tbody>\n",
       "</table>\n",
       "</div>"
      ],
      "text/plain": [
       "            total_bill       tip      size\n",
       "total_bill    1.000000  0.675734  0.598315\n",
       "tip           0.675734  1.000000  0.489299\n",
       "size          0.598315  0.489299  1.000000"
      ]
     },
     "execution_count": 29,
     "metadata": {},
     "output_type": "execute_result"
    }
   ],
   "source": [
    "corre=df[['total_bill','tip','size']].corr()\n",
    "corre"
   ]
  },
  {
   "cell_type": "markdown",
   "id": "4dcccf0d-e45f-4438-83b2-1ba3c756a34a",
   "metadata": {},
   "source": [
    "if there is one unit increase in total bill then there is 67 percent chance that tip will increase in tip"
   ]
  },
  {
   "cell_type": "code",
   "execution_count": 30,
   "id": "fd6a0917-d92a-4b58-a68e-f2ed794574a0",
   "metadata": {},
   "outputs": [
    {
     "data": {
      "text/plain": [
       "<Axes: >"
      ]
     },
     "execution_count": 30,
     "metadata": {},
     "output_type": "execute_result"
    },
    {
     "data": {
      "image/png": "[encoded data removed]",
      "text/plain": [
       "<Figure size 640x480 with 2 Axes>"
      ]
     },
     "metadata": {},
     "output_type": "display_data"
    }
   ],
   "source": [
    "sns.heatmap(corre,annot=True)"
   ]
  },
  {
   "cell_type": "markdown",
   "id": "5f87a23d-c562-4961-9ef2-da0757f2fbe7",
   "metadata": {},
   "source": [
    "Covariance"
   ]
  },
  {
   "cell_type": "code",
   "execution_count": 31,
   "id": "a027397c-47ce-44bf-a4a8-d75888868a84",
   "metadata": {},
   "outputs": [
    {
     "data": {
      "text/html": [
       "<div>\n",
       "<style scoped>\n",
       "    .dataframe tbody tr th:only-of-type {\n",
       "        vertical-align: middle;\n",
       "    }\n",
       "\n",
       "    .dataframe tbody tr th {\n",
       "        vertical-align: top;\n",
       "    }\n",
       "\n",
       "    .dataframe thead th {\n",
       "        text-align: right;\n",
       "    }\n",
       "</style>\n",
       "<table border=\"1\" class=\"dataframe\">\n",
       "  <thead>\n",
       "    <tr style=\"text-align: right;\">\n",
       "      <th></th>\n",
       "      <th>total_bill</th>\n",
       "      <th>tip</th>\n",
       "      <th>size</th>\n",
       "    </tr>\n",
       "  </thead>\n",
       "  <tbody>\n",
       "    <tr>\n",
       "      <th>total_bill</th>\n",
       "      <td>79.252939</td>\n",
       "      <td>8.323502</td>\n",
       "      <td>5.065983</td>\n",
       "    </tr>\n",
       "    <tr>\n",
       "      <th>tip</th>\n",
       "      <td>8.323502</td>\n",
       "      <td>1.914455</td>\n",
       "      <td>0.643906</td>\n",
       "    </tr>\n",
       "    <tr>\n",
       "      <th>size</th>\n",
       "      <td>5.065983</td>\n",
       "      <td>0.643906</td>\n",
       "      <td>0.904591</td>\n",
       "    </tr>\n",
       "  </tbody>\n",
       "</table>\n",
       "</div>"
      ],
      "text/plain": [
       "            total_bill       tip      size\n",
       "total_bill   79.252939  8.323502  5.065983\n",
       "tip           8.323502  1.914455  0.643906\n",
       "size          5.065983  0.643906  0.904591"
      ]
     },
     "execution_count": 31,
     "metadata": {},
     "output_type": "execute_result"
    }
   ],
   "source": [
    "df.cov(numeric_only=True)"
   ]
  },
  {
   "cell_type": "code",
   "execution_count": 32,
   "id": "9426dbec-779b-4f00-aab5-2f872c69edd3",
   "metadata": {},
   "outputs": [
    {
     "name": "stderr",
     "output_type": "stream",
     "text": [
      "C:\\Users\\Admin\\anaconda3\\Lib\\site-packages\\seaborn\\axisgrid.py:118: UserWarning: The figure layout has changed to tight\n",
      "  self._figure.tight_layout(*args, **kwargs)\n"
     ]
    },
    {
     "data": {
      "text/plain": [
       "<seaborn.axisgrid.PairGrid at 0x24f7931da50>"
      ]
     },
     "execution_count": 32,
     "metadata": {},
     "output_type": "execute_result"
    },
    {
     "data": {
      "image/png": "[encoded data removed]",
      "text/plain": [
       "<Figure size 750x750 with 12 Axes>"
      ]
     },
     "metadata": {},
     "output_type": "display_data"
    }
   ],
   "source": [
    "sns.pairplot(df)"
   ]
  },
  {
   "cell_type": "code",
   "execution_count": 33,
   "id": "45a15988-27e7-47d1-9040-d4c7d2e4f0ee",
   "metadata": {},
   "outputs": [
    {
     "data": {
      "text/plain": [
       "<Axes: ylabel='Count'>"
      ]
     },
     "execution_count": 33,
     "metadata": {},
     "output_type": "execute_result"
    },
    {
     "data": {
      "image/png": "[encoded data removed]",
      "text/plain": [
       "<Figure size 640x480 with 1 Axes>"
      ]
     },
     "metadata": {},
     "output_type": "display_data"
    }
   ],
   "source": [
    "sns.histplot(data,kde=True)"
   ]
  },
  {
   "cell_type": "code",
   "execution_count": 34,
   "id": "0cba40f7-6cc0-468c-a47c-59c09fd3c39a",
   "metadata": {},
   "outputs": [
    {
     "data": {
      "text/plain": [
       "<Axes: xlabel='total_bill', ylabel='Count'>"
      ]
     },
     "execution_count": 34,
     "metadata": {},
     "output_type": "execute_result"
    },
    {
     "data": {
      "image/png": "[encoded data removed]",
      "text/plain": [
       "<Figure size 640x480 with 1 Axes>"
      ]
     },
     "metadata": {},
     "output_type": "display_data"
    }
   ],
   "source": [
    "sns.histplot(df['total_bill'],kde=True)"
   ]
  },
  {
   "cell_type": "code",
   "execution_count": 35,
   "id": "fda4302b-998b-4c2d-afd8-bd357c04f599",
   "metadata": {},
   "outputs": [
    {
     "name": "stderr",
     "output_type": "stream",
     "text": [
      "C:\\Users\\Admin\\AppData\\Local\\Temp\\ipykernel_12016\\2042932952.py:2: UserWarning: \n",
      "\n",
      "`distplot` is a deprecated function and will be removed in seaborn v0.14.0.\n",
      "\n",
      "Please adapt your code to use either `displot` (a figure-level function with\n",
      "similar flexibility) or `histplot` (an axes-level function for histograms).\n",
      "\n",
      "For a guide to updating your code to use the new functions, please see\n",
      "https://gist.github.com/mwaskom/de44147ed2974457ad6372750bbe5751\n",
      "\n",
      "  sns.distplot(nd)\n"
     ]
    },
    {
     "data": {
      "text/plain": [
       "<Axes: ylabel='Density'>"
      ]
     },
     "execution_count": 35,
     "metadata": {},
     "output_type": "execute_result"
    },
    {
     "data": {
      "image/png": "[encoded data removed]",
      "text/plain": [
       "<Figure size 640x480 with 1 Axes>"
      ]
     },
     "metadata": {},
     "output_type": "display_data"
    }
   ],
   "source": [
    "nd=np.random.normal(0.5,0.2,1000)\n",
    "sns.distplot(nd)"
   ]
  },
  {
   "cell_type": "code",
   "execution_count": 36,
   "id": "99f6f400-d1cf-4ef8-bd54-e7ac05da4a0c",
   "metadata": {},
   "outputs": [],
   "source": [
    "population=np.random.randint(10,20,50)"
   ]
  },
  {
   "cell_type": "code",
   "execution_count": 37,
   "id": "3b6eeacd-99c2-4f75-8387-7fe49edee5a1",
   "metadata": {},
   "outputs": [
    {
     "data": {
      "text/plain": [
       "array([11, 19, 10, 12, 18, 19, 15, 11, 17, 14, 13, 11, 15, 19, 13, 18, 16,\n",
       "       15, 11, 10, 10, 11, 15, 14, 15, 17, 15, 17, 13, 16, 18, 11, 17, 14,\n",
       "       12, 13, 13, 16, 10, 14, 18, 12, 14, 14, 17, 13, 11, 17, 15, 17])"
      ]
     },
     "execution_count": 37,
     "metadata": {},
     "output_type": "execute_result"
    }
   ],
   "source": [
    "population"
   ]
  },
  {
   "cell_type": "code",
   "execution_count": 38,
   "id": "58211196-df96-41c0-a46b-96fc8c70cad4",
   "metadata": {},
   "outputs": [],
   "source": [
    "sample1=np.random.choice(population,20)\n",
    "sample2=np.random.choice(population,20)\n",
    "sample3=np.random.choice(population,20)\n",
    "sample4=np.random.choice(population,20)"
   ]
  },
  {
   "cell_type": "code",
   "execution_count": 39,
   "id": "b90a6f6a-d823-44f7-b0de-f2e7c5688f2a",
   "metadata": {},
   "outputs": [
    {
     "data": {
      "text/plain": [
       "array([11, 19, 11, 10, 11, 17, 14, 11, 13, 14, 15, 11, 19, 14, 13, 17, 10,\n",
       "       10, 14, 15])"
      ]
     },
     "execution_count": 39,
     "metadata": {},
     "output_type": "execute_result"
    }
   ],
   "source": [
    "sample1"
   ]
  },
  {
   "cell_type": "code",
   "execution_count": 40,
   "id": "d8f8f658-2d63-4bdf-a4f4-adc03236e07d",
   "metadata": {},
   "outputs": [
    {
     "data": {
      "text/plain": [
       "array([13, 15, 15, 11, 11, 18, 18, 17, 11, 17, 13, 10, 14, 17, 16, 17, 14,\n",
       "       16, 17, 17])"
      ]
     },
     "execution_count": 40,
     "metadata": {},
     "output_type": "execute_result"
    }
   ],
   "source": [
    "sample2"
   ]
  },
  {
   "cell_type": "code",
   "execution_count": 41,
   "id": "021de466-e0bb-4998-a6a0-47929d956074",
   "metadata": {},
   "outputs": [
    {
     "data": {
      "text/plain": [
       "array([13, 14, 17, 17, 11, 17, 17, 13, 16, 11, 15, 12, 18, 18, 16, 10, 19,\n",
       "       15, 15, 13])"
      ]
     },
     "execution_count": 41,
     "metadata": {},
     "output_type": "execute_result"
    }
   ],
   "source": [
    "sample3"
   ]
  },
  {
   "cell_type": "code",
   "execution_count": 42,
   "id": "a29a810a-83c2-45ab-9f47-64cf59739546",
   "metadata": {},
   "outputs": [
    {
     "data": {
      "text/plain": [
       "array([18, 15, 15, 13, 17, 19, 14, 13, 15, 14, 14, 14, 11, 14, 13, 11, 15,\n",
       "       17, 17, 11])"
      ]
     },
     "execution_count": 42,
     "metadata": {},
     "output_type": "execute_result"
    }
   ],
   "source": [
    "sample4"
   ]
  },
  {
   "cell_type": "code",
   "execution_count": 43,
   "id": "16b350c3-08eb-491e-9ea8-b41855df973a",
   "metadata": {},
   "outputs": [
    {
     "data": {
      "text/plain": [
       "[14.4125, 14.4125, 14.4125, 14.4125]"
      ]
     },
     "execution_count": 43,
     "metadata": {},
     "output_type": "execute_result"
    }
   ],
   "source": [
    "mean_of_samples=[]\n",
    "all_samples=[sample1,sample2,sample3,sample4]\n",
    "for sample in all_samples:\n",
    "    mean_of_samples.append(np.mean(all_samples))\n",
    "mean_of_samples"
   ]
  },
  {
   "cell_type": "markdown",
   "id": "9f66509a-068e-4f31-8d32-c3e78d381071",
   "metadata": {},
   "source": [
    "Central Limit Theorem >> for any distribution the sample mean will be approximated to normal distribution given sample \n",
    "size >= 30 and no of samples should be sufficiently large"
   ]
  },
  {
   "cell_type": "code",
   "execution_count": 44,
   "id": "7fbb4ffe-5c60-4dba-a419-fe18492f5cf1",
   "metadata": {},
   "outputs": [],
   "source": [
    "population = np.random.binomial(10, 0.5, 10000)"
   ]
  },
  {
   "cell_type": "code",
   "execution_count": 45,
   "id": "5347c216-4909-47a6-9ac7-a023ed6f5a9e",
   "metadata": {},
   "outputs": [
    {
     "data": {
      "text/plain": [
       "array([5, 4, 5, ..., 6, 5, 6])"
      ]
     },
     "execution_count": 45,
     "metadata": {},
     "output_type": "execute_result"
    }
   ],
   "source": [
    "population"
   ]
  },
  {
   "cell_type": "code",
   "execution_count": 46,
   "id": "5048a80d-3793-42b9-b245-1655ce8a5c99",
   "metadata": {},
   "outputs": [
    {
     "name": "stderr",
     "output_type": "stream",
     "text": [
      "C:\\Users\\Admin\\AppData\\Local\\Temp\\ipykernel_12016\\2958836585.py:1: UserWarning: \n",
      "\n",
      "`distplot` is a deprecated function and will be removed in seaborn v0.14.0.\n",
      "\n",
      "Please adapt your code to use either `displot` (a figure-level function with\n",
      "similar flexibility) or `histplot` (an axes-level function for histograms).\n",
      "\n",
      "For a guide to updating your code to use the new functions, please see\n",
      "https://gist.github.com/mwaskom/de44147ed2974457ad6372750bbe5751\n",
      "\n",
      "  sns.distplot(population)\n"
     ]
    },
    {
     "data": {
      "text/plain": [
       "<Axes: ylabel='Density'>"
      ]
     },
     "execution_count": 46,
     "metadata": {},
     "output_type": "execute_result"
    },
    {
     "data": {
      "image/png": "[encoded data removed]",
      "text/plain": [
       "<Figure size 640x480 with 1 Axes>"
      ]
     },
     "metadata": {},
     "output_type": "display_data"
    }
   ],
   "source": [
    "sns.distplot(population)"
   ]
  },
  {
   "cell_type": "code",
   "execution_count": 47,
   "id": "a7f2acf7-4170-46f8-921d-31b9b22df7cc",
   "metadata": {},
   "outputs": [],
   "source": [
    "sample_size = 3000\n",
    "\n",
    "mean_of_samples = []\n",
    "\n",
    "for i in range(1, 10000):\n",
    "    sample = np.random.choice(population, size = sample_size)\n",
    "    mean_of_samples.append(np.mean(sample))"
   ]
  },
  {
   "cell_type": "code",
   "execution_count": 48,
   "id": "31d00147-a08c-4a3e-bfe9-accb1ded47f3",
   "metadata": {},
   "outputs": [
    {
     "name": "stderr",
     "output_type": "stream",
     "text": [
      "C:\\Users\\Admin\\AppData\\Local\\Temp\\ipykernel_12016\\1517309143.py:1: UserWarning: \n",
      "\n",
      "`distplot` is a deprecated function and will be removed in seaborn v0.14.0.\n",
      "\n",
      "Please adapt your code to use either `displot` (a figure-level function with\n",
      "similar flexibility) or `histplot` (an axes-level function for histograms).\n",
      "\n",
      "For a guide to updating your code to use the new functions, please see\n",
      "https://gist.github.com/mwaskom/de44147ed2974457ad6372750bbe5751\n",
      "\n",
      "  sns.distplot(mean_of_samples, kde = True, color = 'red')\n"
     ]
    },
    {
     "data": {
      "text/plain": [
       "<Axes: ylabel='Density'>"
      ]
     },
     "execution_count": 48,
     "metadata": {},
     "output_type": "execute_result"
    },
    {
     "data": {
      "image/png": "[encoded data removed]",
      "text/plain": [
       "<Figure size 640x480 with 1 Axes>"
      ]
     },
     "metadata": {},
     "output_type": "display_data"
    }
   ],
   "source": [
    "sns.distplot(mean_of_samples, kde = True, color = 'red')"
   ]
  },
  {
   "cell_type": "code",
   "execution_count": 49,
   "id": "2704b5b4-32d1-4f26-aace-d1aaefd99b3c",
   "metadata": {},
   "outputs": [
    {
     "name": "stdout",
     "output_type": "stream",
     "text": [
      "5.006463446344634\n",
      "5.006333333333333\n",
      "5.006463446344634\n"
     ]
    }
   ],
   "source": [
    "#Mean = Median = Mode for normal distribution\n",
    "print(np.mean(mean_of_samples))\n",
    "print(np.median(mean_of_samples))\n",
    "print(statistics.mean(mean_of_samples))\n"
   ]
  },
  {
   "cell_type": "code",
   "execution_count": 50,
   "id": "3c426041-7482-4a60-a089-0012ad3fd218",
   "metadata": {},
   "outputs": [],
   "source": [
    "import scipy.stats as stats"
   ]
  },
  {
   "cell_type": "code",
   "execution_count": 51,
   "id": "e077a38d-9e39-4f92-96e8-5c1d3c893c8b",
   "metadata": {},
   "outputs": [
    {
     "data": {
      "text/plain": [
       "[4.992,\n",
       " 4.992,\n",
       " 4.986,\n",
       " 4.995666666666667,\n",
       " 5.041666666666667,\n",
       " 5.048333333333333,\n",
       " 5.05,\n",
       " 5.001666666666667,\n",
       " 5.022333333333333,\n",
       " 4.941666666666666,\n",
       " 4.976,\n",
       " 4.987333333333333,\n",
       " 4.998333333333333,\n",
       " 5.0136666666666665,\n",
       " 4.973,\n",
       " 4.995,\n",
       " 4.977,\n",
       " 4.983,\n",
       " 4.974,\n",
       " 4.983,\n",
       " 4.979333333333333,\n",
       " 4.991666666666666,\n",
       " 5.0056666666666665,\n",
       " 5.0263333333333335,\n",
       " 5.034,\n",
       " 5.001333333333333,\n",
       " 5.0553333333333335,\n",
       " 4.997333333333334,\n",
       " 5.037,\n",
       " 4.95,\n",
       " 5.002,\n",
       " 4.969,\n",
       " 4.9816666666666665,\n",
       " 4.992666666666667,\n",
       " 4.972666666666667,\n",
       " 5.040333333333334,\n",
       " 4.978666666666666,\n",
       " 4.999666666666666,\n",
       " 5.011,\n",
       " 5.022333333333333,\n",
       " 5.033,\n",
       " 4.9783333333333335,\n",
       " 5.023666666666666,\n",
       " 5.022666666666667,\n",
       " 5.002666666666666,\n",
       " 4.974666666666667,\n",
       " 4.972666666666667,\n",
       " 4.993,\n",
       " 5.066333333333334,\n",
       " 5.052333333333333,\n",
       " 5.024666666666667,\n",
       " 5.001666666666667,\n",
       " 5.009,\n",
       " 4.971666666666667,\n",
       " 4.9816666666666665,\n",
       " 5.000333333333334,\n",
       " 4.961,\n",
       " 5.022333333333333,\n",
       " 4.984333333333334,\n",
       " 5.048,\n",
       " 5.028333333333333,\n",
       " 5.030666666666667,\n",
       " 5.017333333333333,\n",
       " 4.974333333333333,\n",
       " 5.074333333333334,\n",
       " 5.062333333333333,\n",
       " 4.9896666666666665,\n",
       " 4.9896666666666665,\n",
       " 4.9976666666666665,\n",
       " 5.021,\n",
       " 5.0136666666666665,\n",
       " 5.049,\n",
       " 4.955333333333333,\n",
       " 4.972333333333333,\n",
       " 5.038666666666667,\n",
       " 4.9703333333333335,\n",
       " 5.028,\n",
       " 5.034666666666666,\n",
       " 4.996,\n",
       " 4.992666666666667,\n",
       " 4.999666666666666,\n",
       " 5.0216666666666665,\n",
       " 5.006,\n",
       " 4.941333333333334,\n",
       " 4.983,\n",
       " 5.014666666666667,\n",
       " 5.011,\n",
       " 5.044,\n",
       " 5.007333333333333,\n",
       " 5.018,\n",
       " 4.988666666666667,\n",
       " 4.941333333333334,\n",
       " 5.0456666666666665,\n",
       " 5.012,\n",
       " 4.95,\n",
       " 5.014666666666667,\n",
       " 5.0136666666666665,\n",
       " 5.002666666666666,\n",
       " 5.006,\n",
       " 4.950333333333333,\n",
       " 4.972666666666667,\n",
       " 4.994,\n",
       " 4.995333333333333,\n",
       " 4.999,\n",
       " 5.061,\n",
       " 4.952,\n",
       " 5.012333333333333,\n",
       " 4.955,\n",
       " 4.966666666666667,\n",
       " 4.979333333333333,\n",
       " 4.990666666666667,\n",
       " 4.973,\n",
       " 5.0183333333333335,\n",
       " 4.995,\n",
       " 4.982666666666667,\n",
       " 4.937,\n",
       " 4.977666666666667,\n",
       " 4.996,\n",
       " 5.019,\n",
       " 5.007,\n",
       " 5.013333333333334,\n",
       " 4.955333333333333,\n",
       " 4.974333333333333,\n",
       " 4.946666666666666,\n",
       " 4.979333333333333,\n",
       " 4.965333333333334,\n",
       " 5.008333333333334,\n",
       " 5.0263333333333335,\n",
       " 4.985333333333333,\n",
       " 4.954666666666666,\n",
       " 5.076666666666667,\n",
       " 4.9863333333333335,\n",
       " 4.995666666666667,\n",
       " 5.015666666666666,\n",
       " 4.972666666666667,\n",
       " 4.985333333333333,\n",
       " 4.988666666666667,\n",
       " 4.967666666666666,\n",
       " 5.050333333333334,\n",
       " 5.002666666666666,\n",
       " 5.015,\n",
       " 5.035666666666667,\n",
       " 4.984333333333334,\n",
       " 5.022666666666667,\n",
       " 4.994,\n",
       " 4.999666666666666,\n",
       " 4.974333333333333,\n",
       " 4.985,\n",
       " 5.048333333333333,\n",
       " 5.0056666666666665,\n",
       " 5.000666666666667,\n",
       " 4.993666666666667,\n",
       " 4.993666666666667,\n",
       " 4.967666666666666,\n",
       " 5.008,\n",
       " 5.021,\n",
       " 5.011333333333333,\n",
       " 4.951666666666667,\n",
       " 4.974333333333333,\n",
       " 5.020666666666667,\n",
       " 5.020333333333333,\n",
       " 5.005,\n",
       " 4.951666666666667,\n",
       " 4.994666666666666,\n",
       " 4.978666666666666,\n",
       " 5.032666666666667,\n",
       " 4.988333333333333,\n",
       " 4.969333333333333,\n",
       " 5.04,\n",
       " 4.953,\n",
       " 4.9896666666666665,\n",
       " 5.051,\n",
       " 4.967666666666666,\n",
       " 5.002666666666666,\n",
       " 5.05,\n",
       " 5.028666666666667,\n",
       " 5.000333333333334,\n",
       " 5.008666666666667,\n",
       " 4.988333333333333,\n",
       " 5.046,\n",
       " 5.022333333333333,\n",
       " 5.026,\n",
       " 4.979666666666667,\n",
       " 5.032333333333334,\n",
       " 5.001,\n",
       " 5.0263333333333335,\n",
       " 5.033,\n",
       " 5.015333333333333,\n",
       " 4.967333333333333,\n",
       " 5.04,\n",
       " 4.993,\n",
       " 4.984,\n",
       " 4.9976666666666665,\n",
       " 4.974,\n",
       " 5.039333333333333,\n",
       " 4.976333333333334,\n",
       " 5.032333333333334,\n",
       " 4.926333333333333,\n",
       " 5.022666666666667,\n",
       " 5.026,\n",
       " 4.9896666666666665,\n",
       " 5.0183333333333335,\n",
       " 4.992333333333334,\n",
       " 4.994666666666666,\n",
       " 4.9863333333333335,\n",
       " 5.003333333333333,\n",
       " 4.995333333333333,\n",
       " 5.0103333333333335,\n",
       " 4.979666666666667,\n",
       " 5.020333333333333,\n",
       " 5.040666666666667,\n",
       " 4.972666666666667,\n",
       " 4.941666666666666,\n",
       " 5.015333333333333,\n",
       " 5.018,\n",
       " 4.980333333333333,\n",
       " 5.007,\n",
       " 5.017,\n",
       " 5.043666666666667,\n",
       " 5.021,\n",
       " 4.993,\n",
       " 5.004333333333333,\n",
       " 4.995666666666667,\n",
       " 5.027666666666667,\n",
       " 5.029,\n",
       " 4.998,\n",
       " 4.992,\n",
       " 5.008,\n",
       " 5.007333333333333,\n",
       " 5.036666666666667,\n",
       " 5.016333333333334,\n",
       " 5.019666666666667,\n",
       " 4.959666666666666,\n",
       " 4.997,\n",
       " 4.963333333333333,\n",
       " 5.003666666666667,\n",
       " 5.014666666666667,\n",
       " 4.9703333333333335,\n",
       " 5.057333333333333,\n",
       " 4.971,\n",
       " 5.011666666666667,\n",
       " 4.997,\n",
       " 4.950666666666667,\n",
       " 5.009666666666667,\n",
       " 4.980666666666667,\n",
       " 4.987666666666667,\n",
       " 5.011,\n",
       " 4.992,\n",
       " 5.059333333333333,\n",
       " 4.988666666666667,\n",
       " 5.059,\n",
       " 5.006333333333333,\n",
       " 5.033,\n",
       " 5.016333333333334,\n",
       " 5.033333333333333,\n",
       " 4.971,\n",
       " 5.0696666666666665,\n",
       " 4.982,\n",
       " 4.999666666666666,\n",
       " 5.109333333333334,\n",
       " 5.0216666666666665,\n",
       " 5.0263333333333335,\n",
       " 5.021333333333334,\n",
       " 4.9446666666666665,\n",
       " 4.971333333333333,\n",
       " 5.031,\n",
       " 5.037333333333334,\n",
       " 5.015333333333333,\n",
       " 5.03,\n",
       " 4.989333333333334,\n",
       " 4.961333333333333,\n",
       " 4.999333333333333,\n",
       " 5.015666666666666,\n",
       " 5.044333333333333,\n",
       " 5.044,\n",
       " 4.994666666666666,\n",
       " 5.003,\n",
       " 4.952333333333334,\n",
       " 5.022666666666667,\n",
       " 5.017333333333333,\n",
       " 5.039333333333333,\n",
       " 5.036666666666667,\n",
       " 5.036,\n",
       " 4.996,\n",
       " 5.018666666666666,\n",
       " 5.013333333333334,\n",
       " 5.0,\n",
       " 5.044,\n",
       " 4.987333333333333,\n",
       " 5.0216666666666665,\n",
       " 5.046,\n",
       " 5.014,\n",
       " 5.017,\n",
       " 5.042,\n",
       " 5.001,\n",
       " 5.029333333333334,\n",
       " 5.003333333333333,\n",
       " 4.979333333333333,\n",
       " 5.014333333333333,\n",
       " 5.02,\n",
       " 5.043333333333333,\n",
       " 4.93,\n",
       " 4.9943333333333335,\n",
       " 5.0183333333333335,\n",
       " 5.035,\n",
       " 4.993,\n",
       " 5.028666666666667,\n",
       " 4.984,\n",
       " 5.0376666666666665,\n",
       " 5.025666666666667,\n",
       " 5.026,\n",
       " 5.020333333333333,\n",
       " 5.002,\n",
       " 4.937333333333333,\n",
       " 4.992333333333334,\n",
       " 4.980333333333333,\n",
       " 5.002666666666666,\n",
       " 5.001666666666667,\n",
       " 4.984,\n",
       " 5.019666666666667,\n",
       " 4.99,\n",
       " 5.060333333333333,\n",
       " 5.006,\n",
       " 4.984333333333334,\n",
       " 5.032,\n",
       " 5.062,\n",
       " 5.018,\n",
       " 4.9526666666666666,\n",
       " 4.991666666666666,\n",
       " 4.994,\n",
       " 5.0793333333333335,\n",
       " 5.014,\n",
       " 5.040333333333334,\n",
       " 4.96,\n",
       " 4.9816666666666665,\n",
       " 5.083333333333333,\n",
       " 5.016,\n",
       " 5.022333333333333,\n",
       " 5.02,\n",
       " 4.99,\n",
       " 4.952,\n",
       " 5.048333333333333,\n",
       " 5.011666666666667,\n",
       " 5.01,\n",
       " 4.992,\n",
       " 5.031666666666666,\n",
       " 4.985666666666667,\n",
       " 4.975,\n",
       " 5.021,\n",
       " 5.006666666666667,\n",
       " 5.019666666666667,\n",
       " 5.028333333333333,\n",
       " 5.063666666666666,\n",
       " 5.009333333333333,\n",
       " 5.035,\n",
       " 4.979666666666667,\n",
       " 4.990666666666667,\n",
       " 5.013,\n",
       " 4.979333333333333,\n",
       " 4.987,\n",
       " 4.975333333333333,\n",
       " 5.040666666666667,\n",
       " 5.024333333333334,\n",
       " 5.012666666666667,\n",
       " 4.984666666666667,\n",
       " 5.001,\n",
       " 5.055666666666666,\n",
       " 5.022666666666667,\n",
       " 4.991333333333333,\n",
       " 5.007,\n",
       " 5.006666666666667,\n",
       " 4.916666666666667,\n",
       " 4.988,\n",
       " 5.015666666666666,\n",
       " 4.964333333333333,\n",
       " 5.0,\n",
       " 5.042333333333334,\n",
       " 5.047666666666666,\n",
       " 5.0473333333333334,\n",
       " 5.0023333333333335,\n",
       " 4.991333333333333,\n",
       " 5.033666666666667,\n",
       " 4.972666666666667,\n",
       " 4.956333333333333,\n",
       " 4.985,\n",
       " 4.998666666666667,\n",
       " 5.002,\n",
       " 5.020666666666667,\n",
       " 5.012333333333333,\n",
       " 5.023666666666666,\n",
       " 5.067333333333333,\n",
       " 5.008,\n",
       " 5.033333333333333,\n",
       " 4.984666666666667,\n",
       " 5.0,\n",
       " 5.000666666666667,\n",
       " 4.997333333333334,\n",
       " 5.013333333333334,\n",
       " 4.97,\n",
       " 5.036666666666667,\n",
       " 5.025666666666667,\n",
       " 4.981333333333334,\n",
       " 5.030333333333333,\n",
       " 5.014333333333333,\n",
       " 5.042,\n",
       " 5.009666666666667,\n",
       " 5.012666666666667,\n",
       " 5.042,\n",
       " 4.969666666666667,\n",
       " 5.055666666666666,\n",
       " 4.971,\n",
       " 4.995333333333333,\n",
       " 5.0136666666666665,\n",
       " 5.0136666666666665,\n",
       " 5.024,\n",
       " 5.026666666666666,\n",
       " 5.080333333333333,\n",
       " 5.003,\n",
       " 5.014666666666667,\n",
       " 4.986666666666666,\n",
       " 5.013,\n",
       " 5.022,\n",
       " 5.009666666666667,\n",
       " 5.008666666666667,\n",
       " 4.986,\n",
       " 5.0023333333333335,\n",
       " 5.012333333333333,\n",
       " 5.022,\n",
       " 5.062,\n",
       " 5.009333333333333,\n",
       " 4.997333333333334,\n",
       " 5.013333333333334,\n",
       " 5.052,\n",
       " 5.014,\n",
       " 5.022,\n",
       " 4.990333333333333,\n",
       " 5.009666666666667,\n",
       " 5.002,\n",
       " 4.957333333333334,\n",
       " 4.980333333333333,\n",
       " 5.009,\n",
       " 5.014,\n",
       " 4.988666666666667,\n",
       " 5.027666666666667,\n",
       " 5.037333333333334,\n",
       " 5.04,\n",
       " 4.968333333333334,\n",
       " 5.015666666666666,\n",
       " 5.016333333333334,\n",
       " 4.950333333333333,\n",
       " 4.988,\n",
       " 4.995666666666667,\n",
       " 4.986666666666666,\n",
       " 4.997,\n",
       " 5.0183333333333335,\n",
       " 5.0023333333333335,\n",
       " 4.989,\n",
       " 4.983,\n",
       " 4.9943333333333335,\n",
       " 5.033,\n",
       " 4.9736666666666665,\n",
       " 5.016,\n",
       " 5.014,\n",
       " 4.9623333333333335,\n",
       " 4.988333333333333,\n",
       " 5.028333333333333,\n",
       " 4.996333333333333,\n",
       " 5.039,\n",
       " 5.031,\n",
       " 5.0553333333333335,\n",
       " 4.998333333333333,\n",
       " 5.03,\n",
       " 5.058333333333334,\n",
       " 4.967,\n",
       " 4.975,\n",
       " 5.017333333333333,\n",
       " 4.976333333333334,\n",
       " 5.013333333333334,\n",
       " 4.983666666666666,\n",
       " 4.984333333333334,\n",
       " 4.984,\n",
       " 5.053,\n",
       " 5.065666666666667,\n",
       " 4.987333333333333,\n",
       " 4.965,\n",
       " 4.965,\n",
       " 5.004666666666667,\n",
       " 4.964333333333333,\n",
       " 4.9976666666666665,\n",
       " 5.026,\n",
       " 4.985666666666667,\n",
       " 5.000333333333334,\n",
       " 5.022666666666667,\n",
       " 4.999,\n",
       " 5.0473333333333334,\n",
       " 4.9783333333333335,\n",
       " 4.992333333333334,\n",
       " 4.987,\n",
       " 5.03,\n",
       " 5.035,\n",
       " 4.993666666666667,\n",
       " 4.99,\n",
       " 5.029333333333334,\n",
       " 5.003333333333333,\n",
       " 5.018666666666666,\n",
       " 4.9896666666666665,\n",
       " 4.990666666666667,\n",
       " 4.998,\n",
       " 4.965333333333334,\n",
       " 4.998666666666667,\n",
       " 5.008333333333334,\n",
       " 5.048333333333333,\n",
       " 4.985333333333333,\n",
       " 4.996333333333333,\n",
       " 4.990333333333333,\n",
       " 4.995666666666667,\n",
       " 4.98,\n",
       " 4.974333333333333,\n",
       " 4.972666666666667,\n",
       " 4.999333333333333,\n",
       " 4.991333333333333,\n",
       " 5.034666666666666,\n",
       " 5.019,\n",
       " 4.975,\n",
       " 4.987,\n",
       " 5.0103333333333335,\n",
       " 5.003666666666667,\n",
       " 4.974,\n",
       " 4.999666666666666,\n",
       " 5.009666666666667,\n",
       " 4.988333333333333,\n",
       " 5.056666666666667,\n",
       " 4.969333333333333,\n",
       " 5.030333333333333,\n",
       " 5.031333333333333,\n",
       " 5.052333333333333,\n",
       " 4.995666666666667,\n",
       " 5.057,\n",
       " 4.933333333333334,\n",
       " 4.9896666666666665,\n",
       " 5.028333333333333,\n",
       " 5.036666666666667,\n",
       " 5.009666666666667,\n",
       " 5.035,\n",
       " 5.019333333333333,\n",
       " 5.032666666666667,\n",
       " 4.9703333333333335,\n",
       " 5.028333333333333,\n",
       " 5.039666666666666,\n",
       " 5.002,\n",
       " 5.009666666666667,\n",
       " 4.977666666666667,\n",
       " 5.115333333333333,\n",
       " 5.010666666666666,\n",
       " 5.011666666666667,\n",
       " 4.985333333333333,\n",
       " 5.024666666666667,\n",
       " 5.020666666666667,\n",
       " 4.9543333333333335,\n",
       " 5.017666666666667,\n",
       " 5.041333333333333,\n",
       " 4.988666666666667,\n",
       " 5.0296666666666665,\n",
       " 4.970666666666666,\n",
       " 4.975333333333333,\n",
       " 5.041,\n",
       " 5.007333333333333,\n",
       " 5.025,\n",
       " 5.014333333333333,\n",
       " 5.019,\n",
       " 4.999,\n",
       " 5.002666666666666,\n",
       " 4.994666666666666,\n",
       " 4.976666666666667,\n",
       " 5.077333333333334,\n",
       " 4.995,\n",
       " 4.988666666666667,\n",
       " 4.994666666666666,\n",
       " 4.975333333333333,\n",
       " 5.0103333333333335,\n",
       " 5.043,\n",
       " 4.998333333333333,\n",
       " 4.955333333333333,\n",
       " 4.982666666666667,\n",
       " 5.019,\n",
       " 5.033,\n",
       " 5.064666666666667,\n",
       " 4.990333333333333,\n",
       " 5.035666666666667,\n",
       " 5.017666666666667,\n",
       " 4.9943333333333335,\n",
       " 5.043,\n",
       " 5.002666666666666,\n",
       " 4.999,\n",
       " 5.011333333333333,\n",
       " 4.969,\n",
       " 5.029,\n",
       " 5.005333333333334,\n",
       " 5.022,\n",
       " 4.988666666666667,\n",
       " 4.969666666666667,\n",
       " 5.005333333333334,\n",
       " 5.020333333333333,\n",
       " 5.016333333333334,\n",
       " 4.981,\n",
       " 5.004666666666667,\n",
       " 4.989,\n",
       " 5.001666666666667,\n",
       " 5.023333333333333,\n",
       " 5.004,\n",
       " 5.0103333333333335,\n",
       " 4.992333333333334,\n",
       " 5.038,\n",
       " 5.004333333333333,\n",
       " 4.948,\n",
       " 4.957,\n",
       " 4.9703333333333335,\n",
       " 4.993,\n",
       " 4.988333333333333,\n",
       " 4.970666666666666,\n",
       " 4.999,\n",
       " 5.000666666666667,\n",
       " 5.075333333333333,\n",
       " 4.987666666666667,\n",
       " 4.992666666666667,\n",
       " 4.994,\n",
       " 5.022333333333333,\n",
       " 4.977333333333333,\n",
       " 4.989,\n",
       " 4.985,\n",
       " 4.990666666666667,\n",
       " 5.0343333333333335,\n",
       " 4.972333333333333,\n",
       " 5.016333333333334,\n",
       " 5.020333333333333,\n",
       " 4.971666666666667,\n",
       " 4.943,\n",
       " 5.012,\n",
       " 5.0183333333333335,\n",
       " 4.976666666666667,\n",
       " 5.025333333333333,\n",
       " 4.990666666666667,\n",
       " 5.023333333333333,\n",
       " 5.0056666666666665,\n",
       " 5.016333333333334,\n",
       " 4.911,\n",
       " 5.042,\n",
       " 5.063666666666666,\n",
       " 5.066666666666666,\n",
       " 4.989333333333334,\n",
       " 4.983333333333333,\n",
       " 4.969666666666667,\n",
       " 5.033666666666667,\n",
       " 5.007,\n",
       " 5.024,\n",
       " 4.9896666666666665,\n",
       " 4.996,\n",
       " 4.999333333333333,\n",
       " 5.069,\n",
       " 4.987333333333333,\n",
       " 4.991,\n",
       " 4.98,\n",
       " 4.972333333333333,\n",
       " 4.9976666666666665,\n",
       " 5.055,\n",
       " 5.074333333333334,\n",
       " 5.009666666666667,\n",
       " 4.984333333333334,\n",
       " 4.945666666666667,\n",
       " 4.987,\n",
       " 4.983666666666666,\n",
       " 4.999666666666666,\n",
       " 5.026,\n",
       " 4.963,\n",
       " 4.987333333333333,\n",
       " 5.004333333333333,\n",
       " 5.004333333333333,\n",
       " 5.009,\n",
       " 5.026,\n",
       " 4.983666666666666,\n",
       " 5.069333333333334,\n",
       " 5.015333333333333,\n",
       " 5.042666666666666,\n",
       " 5.05,\n",
       " 5.067666666666667,\n",
       " 5.042666666666666,\n",
       " 4.983666666666666,\n",
       " 5.011333333333333,\n",
       " 5.034,\n",
       " 4.98,\n",
       " 4.956333333333333,\n",
       " 5.007,\n",
       " 5.052,\n",
       " 4.990666666666667,\n",
       " 5.055666666666666,\n",
       " 5.001666666666667,\n",
       " 4.955666666666667,\n",
       " 5.050333333333334,\n",
       " 4.969,\n",
       " 5.0056666666666665,\n",
       " 5.019333333333333,\n",
       " 5.027333333333333,\n",
       " 5.024666666666667,\n",
       " 5.011333333333333,\n",
       " 4.968666666666667,\n",
       " 5.0136666666666665,\n",
       " 4.995,\n",
       " 5.016333333333334,\n",
       " 4.975666666666666,\n",
       " 5.009333333333333,\n",
       " 5.0023333333333335,\n",
       " 4.95,\n",
       " 4.961666666666667,\n",
       " 4.981,\n",
       " 5.016333333333334,\n",
       " 5.036333333333333,\n",
       " 4.985666666666667,\n",
       " 4.968666666666667,\n",
       " 4.998333333333333,\n",
       " 5.052333333333333,\n",
       " 5.042666666666666,\n",
       " 5.049,\n",
       " 4.985333333333333,\n",
       " 5.032666666666667,\n",
       " 5.0263333333333335,\n",
       " 5.031666666666666,\n",
       " 4.993333333333333,\n",
       " 5.037333333333334,\n",
       " 4.986666666666666,\n",
       " 5.014666666666667,\n",
       " 5.032333333333334,\n",
       " 5.037,\n",
       " 4.992333333333334,\n",
       " 4.971333333333333,\n",
       " 5.023,\n",
       " 5.017,\n",
       " 5.009666666666667,\n",
       " 5.027666666666667,\n",
       " 5.017,\n",
       " 5.056666666666667,\n",
       " 5.029333333333334,\n",
       " 4.996333333333333,\n",
       " 5.048333333333333,\n",
       " 5.003333333333333,\n",
       " 4.9976666666666665,\n",
       " 4.998666666666667,\n",
       " 4.998333333333333,\n",
       " 4.967666666666666,\n",
       " 5.033,\n",
       " 4.990666666666667,\n",
       " 5.02,\n",
       " 4.987666666666667,\n",
       " 5.011,\n",
       " 5.031333333333333,\n",
       " 5.008,\n",
       " 4.972333333333333,\n",
       " 4.986666666666666,\n",
       " 5.031333333333333,\n",
       " 4.964,\n",
       " 4.945666666666667,\n",
       " 5.022333333333333,\n",
       " 5.025,\n",
       " 5.006,\n",
       " 4.959333333333333,\n",
       " 4.963,\n",
       " 5.055666666666666,\n",
       " 5.036666666666667,\n",
       " 4.996666666666667,\n",
       " 4.993666666666667,\n",
       " 5.03,\n",
       " 5.026,\n",
       " 5.016,\n",
       " 5.016,\n",
       " 5.04,\n",
       " 5.012333333333333,\n",
       " 5.042,\n",
       " 5.044,\n",
       " 4.982333333333333,\n",
       " 5.030333333333333,\n",
       " 4.998,\n",
       " 5.036333333333333,\n",
       " 5.037,\n",
       " 4.967666666666666,\n",
       " 5.019333333333333,\n",
       " 4.983,\n",
       " 5.014666666666667,\n",
       " 5.000333333333334,\n",
       " 4.9943333333333335,\n",
       " 4.979666666666667,\n",
       " 5.05,\n",
       " 5.0023333333333335,\n",
       " 5.01,\n",
       " 4.981333333333334,\n",
       " 4.955333333333333,\n",
       " 4.973,\n",
       " 4.943666666666667,\n",
       " 5.017333333333333,\n",
       " 4.984333333333334,\n",
       " 4.999,\n",
       " 5.004666666666667,\n",
       " 4.983,\n",
       " 5.055,\n",
       " 5.016,\n",
       " 5.012,\n",
       " 4.969666666666667,\n",
       " 5.0023333333333335,\n",
       " 5.035333333333333,\n",
       " 5.0136666666666665,\n",
       " 5.022666666666667,\n",
       " 4.953333333333333,\n",
       " 4.992,\n",
       " 5.025,\n",
       " 5.005,\n",
       " 4.976,\n",
       " 4.969,\n",
       " 5.019666666666667,\n",
       " 5.012,\n",
       " 4.975,\n",
       " 5.050666666666666,\n",
       " 5.022666666666667,\n",
       " 5.013333333333334,\n",
       " 5.026,\n",
       " 5.026,\n",
       " 4.973333333333334,\n",
       " 5.027333333333333,\n",
       " 4.987333333333333,\n",
       " 4.993666666666667,\n",
       " 5.017,\n",
       " 5.019333333333333,\n",
       " 4.971,\n",
       " 5.043,\n",
       " 5.028,\n",
       " 4.983666666666666,\n",
       " 5.043,\n",
       " 5.031666666666666,\n",
       " 5.021,\n",
       " 4.9703333333333335,\n",
       " 5.025666666666667,\n",
       " 4.9863333333333335,\n",
       " 5.015,\n",
       " 5.006333333333333,\n",
       " 4.98,\n",
       " 5.004333333333333,\n",
       " 4.993,\n",
       " 5.004666666666667,\n",
       " 4.975333333333333,\n",
       " 4.985666666666667,\n",
       " 4.978666666666666,\n",
       " 4.965333333333334,\n",
       " 4.989333333333334,\n",
       " 4.993333333333333,\n",
       " 5.016333333333334,\n",
       " 4.918,\n",
       " 5.021,\n",
       " 5.013333333333334,\n",
       " 4.991333333333333,\n",
       " 5.045333333333334,\n",
       " 5.024333333333334,\n",
       " 5.014,\n",
       " 5.011,\n",
       " 4.992,\n",
       " 4.979,\n",
       " 4.954666666666666,\n",
       " 5.067,\n",
       " 5.032,\n",
       " 5.073,\n",
       " 5.017,\n",
       " 4.993,\n",
       " 5.01,\n",
       " 5.017666666666667,\n",
       " 4.999,\n",
       " 4.9703333333333335,\n",
       " 5.085666666666667,\n",
       " 5.002666666666666,\n",
       " 5.014666666666667,\n",
       " 4.946666666666666,\n",
       " 5.036333333333333,\n",
       " 4.994666666666666,\n",
       " 4.966666666666667,\n",
       " 5.004666666666667,\n",
       " 5.042,\n",
       " 5.02,\n",
       " 5.027,\n",
       " 4.977333333333333,\n",
       " 4.997333333333334,\n",
       " 5.008666666666667,\n",
       " 4.993333333333333,\n",
       " 4.989,\n",
       " 5.076333333333333,\n",
       " 4.992,\n",
       " 5.025333333333333,\n",
       " 5.032,\n",
       " 5.040666666666667,\n",
       " 4.988666666666667,\n",
       " 5.041333333333333,\n",
       " 5.039,\n",
       " 4.984666666666667,\n",
       " 5.033333333333333,\n",
       " 5.038666666666667,\n",
       " 4.967333333333333,\n",
       " 5.026666666666666,\n",
       " 4.996333333333333,\n",
       " 5.031333333333333,\n",
       " 4.9896666666666665,\n",
       " 4.952,\n",
       " 4.992333333333334,\n",
       " 5.030666666666667,\n",
       " 4.956333333333333,\n",
       " 4.9816666666666665,\n",
       " 4.983666666666666,\n",
       " 5.042,\n",
       " 5.019333333333333,\n",
       " 4.950333333333333,\n",
       " 4.919666666666667,\n",
       " 5.011666666666667,\n",
       " 5.054333333333333,\n",
       " 4.988666666666667,\n",
       " 4.963333333333333,\n",
       " 5.003333333333333,\n",
       " 5.060333333333333,\n",
       " 4.993333333333333,\n",
       " 5.0,\n",
       " 5.028,\n",
       " 5.006,\n",
       " 5.013,\n",
       " 5.018,\n",
       " 4.976,\n",
       " 5.011,\n",
       " 4.974333333333333,\n",
       " 5.044333333333333,\n",
       " 5.021,\n",
       " 5.032333333333334,\n",
       " 5.051333333333333,\n",
       " 5.012666666666667,\n",
       " 5.024333333333334,\n",
       " 5.0023333333333335,\n",
       " 4.957,\n",
       " 4.966333333333333,\n",
       " 5.125333333333334,\n",
       " 5.098333333333334,\n",
       " 4.991666666666666,\n",
       " 4.966333333333333,\n",
       " 4.9783333333333335,\n",
       " 5.003666666666667,\n",
       " 5.076,\n",
       " 5.023333333333333,\n",
       " 4.97,\n",
       " 5.028,\n",
       " 5.043666666666667,\n",
       " 5.014333333333333,\n",
       " 4.971666666666667,\n",
       " 4.969,\n",
       " 4.986666666666666,\n",
       " 5.028,\n",
       " 5.0263333333333335,\n",
       " 5.008666666666667,\n",
       " 4.983666666666666,\n",
       " 5.003333333333333,\n",
       " 5.062666666666667,\n",
       " 5.006666666666667,\n",
       " 4.994666666666666,\n",
       " 5.020333333333333,\n",
       " 5.0056666666666665,\n",
       " 5.035666666666667,\n",
       " 4.989,\n",
       " 5.000666666666667,\n",
       " 4.983666666666666,\n",
       " 4.990333333333333,\n",
       " 5.039333333333333,\n",
       " 4.989333333333334,\n",
       " 5.036,\n",
       " 5.047666666666666,\n",
       " 5.019666666666667,\n",
       " 4.995,\n",
       " 5.0263333333333335,\n",
       " 5.044333333333333,\n",
       " 5.013,\n",
       " 5.035666666666667,\n",
       " 5.008666666666667,\n",
       " 5.014666666666667,\n",
       " 4.964666666666667,\n",
       " 4.992,\n",
       " 5.012,\n",
       " 4.979,\n",
       " 5.008666666666667,\n",
       " 4.995333333333333,\n",
       " 4.959666666666666,\n",
       " 5.020666666666667,\n",
       " 5.02,\n",
       " 5.003666666666667,\n",
       " 5.015333333333333,\n",
       " 4.955333333333333,\n",
       " 4.991,\n",
       " 4.995,\n",
       " 5.017666666666667,\n",
       " 5.008,\n",
       " 4.982333333333333,\n",
       " 5.028,\n",
       " 5.009333333333333,\n",
       " 5.003333333333333,\n",
       " ...]"
      ]
     },
     "execution_count": 51,
     "metadata": {},
     "output_type": "execute_result"
    }
   ],
   "source": [
    "mean_of_samples"
   ]
  },
  {
   "cell_type": "markdown",
   "id": "0ed46223-fbd1-487d-9879-3074920f5f80",
   "metadata": {},
   "source": [
    "Zcritical"
   ]
  },
  {
   "cell_type": "code",
   "execution_count": 52,
   "id": "b734bb9c-ea56-4095-9fd0-0373d487be65",
   "metadata": {},
   "outputs": [
    {
     "data": {
      "text/plain": [
       "1.6448536269514722"
      ]
     },
     "execution_count": 52,
     "metadata": {},
     "output_type": "execute_result"
    }
   ],
   "source": [
    "z_critical=stats.norm.ppf(q=0.95)# for alpha q= 0.95 percent the zcritical value = 1.6448536269514722 \n",
    "#0.95 is confidence interval\n",
    "z_critical"
   ]
  },
  {
   "cell_type": "markdown",
   "id": "a9becf33-6fa8-4918-b7c8-375b011d41ce",
   "metadata": {},
   "source": [
    "tcritical"
   ]
  },
  {
   "cell_type": "code",
   "execution_count": 53,
   "id": "2d7de153-9072-4953-a0a2-905225358d06",
   "metadata": {},
   "outputs": [
    {
     "data": {
      "text/plain": [
       "1.7108820799094275"
      ]
     },
     "execution_count": 53,
     "metadata": {},
     "output_type": "execute_result"
    }
   ],
   "source": [
    "stats.t.ppf(df=24,q=0.95)"
   ]
  },
  {
   "cell_type": "code",
   "execution_count": 54,
   "id": "05d3387b-918f-4274-bd4e-cc2a24482fdf",
   "metadata": {},
   "outputs": [],
   "source": [
    "#Margin of error\n",
    "margin_of_error = z_critical * np.std(mean_of_samples) / np.sqrt(20)"
   ]
  },
  {
   "cell_type": "code",
   "execution_count": 55,
   "id": "318ca9b1-95ef-449f-9736-64fca73cbe1d",
   "metadata": {},
   "outputs": [
    {
     "data": {
      "text/plain": [
       "0.010745036920997384"
      ]
     },
     "execution_count": 55,
     "metadata": {},
     "output_type": "execute_result"
    }
   ],
   "source": [
    "margin_of_error"
   ]
  },
  {
   "cell_type": "code",
   "execution_count": 56,
   "id": "c0b61ebf-83d4-40a2-876a-a9d71e936112",
   "metadata": {},
   "outputs": [
    {
     "data": {
      "text/plain": [
       "[4.992,\n",
       " 4.992,\n",
       " 4.986,\n",
       " 4.995666666666667,\n",
       " 5.041666666666667,\n",
       " 5.048333333333333,\n",
       " 5.05,\n",
       " 5.001666666666667,\n",
       " 5.022333333333333,\n",
       " 4.941666666666666,\n",
       " 4.976,\n",
       " 4.987333333333333,\n",
       " 4.998333333333333,\n",
       " 5.0136666666666665,\n",
       " 4.973,\n",
       " 4.995,\n",
       " 4.977,\n",
       " 4.983,\n",
       " 4.974,\n",
       " 4.983,\n",
       " 4.979333333333333,\n",
       " 4.991666666666666,\n",
       " 5.0056666666666665,\n",
       " 5.0263333333333335,\n",
       " 5.034,\n",
       " 5.001333333333333,\n",
       " 5.0553333333333335,\n",
       " 4.997333333333334,\n",
       " 5.037,\n",
       " 4.95,\n",
       " 5.002,\n",
       " 4.969,\n",
       " 4.9816666666666665,\n",
       " 4.992666666666667,\n",
       " 4.972666666666667,\n",
       " 5.040333333333334,\n",
       " 4.978666666666666,\n",
       " 4.999666666666666,\n",
       " 5.011,\n",
       " 5.022333333333333,\n",
       " 5.033,\n",
       " 4.9783333333333335,\n",
       " 5.023666666666666,\n",
       " 5.022666666666667,\n",
       " 5.002666666666666,\n",
       " 4.974666666666667,\n",
       " 4.972666666666667,\n",
       " 4.993,\n",
       " 5.066333333333334,\n",
       " 5.052333333333333,\n",
       " 5.024666666666667,\n",
       " 5.001666666666667,\n",
       " 5.009,\n",
       " 4.971666666666667,\n",
       " 4.9816666666666665,\n",
       " 5.000333333333334,\n",
       " 4.961,\n",
       " 5.022333333333333,\n",
       " 4.984333333333334,\n",
       " 5.048,\n",
       " 5.028333333333333,\n",
       " 5.030666666666667,\n",
       " 5.017333333333333,\n",
       " 4.974333333333333,\n",
       " 5.074333333333334,\n",
       " 5.062333333333333,\n",
       " 4.9896666666666665,\n",
       " 4.9896666666666665,\n",
       " 4.9976666666666665,\n",
       " 5.021,\n",
       " 5.0136666666666665,\n",
       " 5.049,\n",
       " 4.955333333333333,\n",
       " 4.972333333333333,\n",
       " 5.038666666666667,\n",
       " 4.9703333333333335,\n",
       " 5.028,\n",
       " 5.034666666666666,\n",
       " 4.996,\n",
       " 4.992666666666667,\n",
       " 4.999666666666666,\n",
       " 5.0216666666666665,\n",
       " 5.006,\n",
       " 4.941333333333334,\n",
       " 4.983,\n",
       " 5.014666666666667,\n",
       " 5.011,\n",
       " 5.044,\n",
       " 5.007333333333333,\n",
       " 5.018,\n",
       " 4.988666666666667,\n",
       " 4.941333333333334,\n",
       " 5.0456666666666665,\n",
       " 5.012,\n",
       " 4.95,\n",
       " 5.014666666666667,\n",
       " 5.0136666666666665,\n",
       " 5.002666666666666,\n",
       " 5.006,\n",
       " 4.950333333333333,\n",
       " 4.972666666666667,\n",
       " 4.994,\n",
       " 4.995333333333333,\n",
       " 4.999,\n",
       " 5.061,\n",
       " 4.952,\n",
       " 5.012333333333333,\n",
       " 4.955,\n",
       " 4.966666666666667,\n",
       " 4.979333333333333,\n",
       " 4.990666666666667,\n",
       " 4.973,\n",
       " 5.0183333333333335,\n",
       " 4.995,\n",
       " 4.982666666666667,\n",
       " 4.937,\n",
       " 4.977666666666667,\n",
       " 4.996,\n",
       " 5.019,\n",
       " 5.007,\n",
       " 5.013333333333334,\n",
       " 4.955333333333333,\n",
       " 4.974333333333333,\n",
       " 4.946666666666666,\n",
       " 4.979333333333333,\n",
       " 4.965333333333334,\n",
       " 5.008333333333334,\n",
       " 5.0263333333333335,\n",
       " 4.985333333333333,\n",
       " 4.954666666666666,\n",
       " 5.076666666666667,\n",
       " 4.9863333333333335,\n",
       " 4.995666666666667,\n",
       " 5.015666666666666,\n",
       " 4.972666666666667,\n",
       " 4.985333333333333,\n",
       " 4.988666666666667,\n",
       " 4.967666666666666,\n",
       " 5.050333333333334,\n",
       " 5.002666666666666,\n",
       " 5.015,\n",
       " 5.035666666666667,\n",
       " 4.984333333333334,\n",
       " 5.022666666666667,\n",
       " 4.994,\n",
       " 4.999666666666666,\n",
       " 4.974333333333333,\n",
       " 4.985,\n",
       " 5.048333333333333,\n",
       " 5.0056666666666665,\n",
       " 5.000666666666667,\n",
       " 4.993666666666667,\n",
       " 4.993666666666667,\n",
       " 4.967666666666666,\n",
       " 5.008,\n",
       " 5.021,\n",
       " 5.011333333333333,\n",
       " 4.951666666666667,\n",
       " 4.974333333333333,\n",
       " 5.020666666666667,\n",
       " 5.020333333333333,\n",
       " 5.005,\n",
       " 4.951666666666667,\n",
       " 4.994666666666666,\n",
       " 4.978666666666666,\n",
       " 5.032666666666667,\n",
       " 4.988333333333333,\n",
       " 4.969333333333333,\n",
       " 5.04,\n",
       " 4.953,\n",
       " 4.9896666666666665,\n",
       " 5.051,\n",
       " 4.967666666666666,\n",
       " 5.002666666666666,\n",
       " 5.05,\n",
       " 5.028666666666667,\n",
       " 5.000333333333334,\n",
       " 5.008666666666667,\n",
       " 4.988333333333333,\n",
       " 5.046,\n",
       " 5.022333333333333,\n",
       " 5.026,\n",
       " 4.979666666666667,\n",
       " 5.032333333333334,\n",
       " 5.001,\n",
       " 5.0263333333333335,\n",
       " 5.033,\n",
       " 5.015333333333333,\n",
       " 4.967333333333333,\n",
       " 5.04,\n",
       " 4.993,\n",
       " 4.984,\n",
       " 4.9976666666666665,\n",
       " 4.974,\n",
       " 5.039333333333333,\n",
       " 4.976333333333334,\n",
       " 5.032333333333334,\n",
       " 4.926333333333333,\n",
       " 5.022666666666667,\n",
       " 5.026,\n",
       " 4.9896666666666665,\n",
       " 5.0183333333333335,\n",
       " 4.992333333333334,\n",
       " 4.994666666666666,\n",
       " 4.9863333333333335,\n",
       " 5.003333333333333,\n",
       " 4.995333333333333,\n",
       " 5.0103333333333335,\n",
       " 4.979666666666667,\n",
       " 5.020333333333333,\n",
       " 5.040666666666667,\n",
       " 4.972666666666667,\n",
       " 4.941666666666666,\n",
       " 5.015333333333333,\n",
       " 5.018,\n",
       " 4.980333333333333,\n",
       " 5.007,\n",
       " 5.017,\n",
       " 5.043666666666667,\n",
       " 5.021,\n",
       " 4.993,\n",
       " 5.004333333333333,\n",
       " 4.995666666666667,\n",
       " 5.027666666666667,\n",
       " 5.029,\n",
       " 4.998,\n",
       " 4.992,\n",
       " 5.008,\n",
       " 5.007333333333333,\n",
       " 5.036666666666667,\n",
       " 5.016333333333334,\n",
       " 5.019666666666667,\n",
       " 4.959666666666666,\n",
       " 4.997,\n",
       " 4.963333333333333,\n",
       " 5.003666666666667,\n",
       " 5.014666666666667,\n",
       " 4.9703333333333335,\n",
       " 5.057333333333333,\n",
       " 4.971,\n",
       " 5.011666666666667,\n",
       " 4.997,\n",
       " 4.950666666666667,\n",
       " 5.009666666666667,\n",
       " 4.980666666666667,\n",
       " 4.987666666666667,\n",
       " 5.011,\n",
       " 4.992,\n",
       " 5.059333333333333,\n",
       " 4.988666666666667,\n",
       " 5.059,\n",
       " 5.006333333333333,\n",
       " 5.033,\n",
       " 5.016333333333334,\n",
       " 5.033333333333333,\n",
       " 4.971,\n",
       " 5.0696666666666665,\n",
       " 4.982,\n",
       " 4.999666666666666,\n",
       " 5.109333333333334,\n",
       " 5.0216666666666665,\n",
       " 5.0263333333333335,\n",
       " 5.021333333333334,\n",
       " 4.9446666666666665,\n",
       " 4.971333333333333,\n",
       " 5.031,\n",
       " 5.037333333333334,\n",
       " 5.015333333333333,\n",
       " 5.03,\n",
       " 4.989333333333334,\n",
       " 4.961333333333333,\n",
       " 4.999333333333333,\n",
       " 5.015666666666666,\n",
       " 5.044333333333333,\n",
       " 5.044,\n",
       " 4.994666666666666,\n",
       " 5.003,\n",
       " 4.952333333333334,\n",
       " 5.022666666666667,\n",
       " 5.017333333333333,\n",
       " 5.039333333333333,\n",
       " 5.036666666666667,\n",
       " 5.036,\n",
       " 4.996,\n",
       " 5.018666666666666,\n",
       " 5.013333333333334,\n",
       " 5.0,\n",
       " 5.044,\n",
       " 4.987333333333333,\n",
       " 5.0216666666666665,\n",
       " 5.046,\n",
       " 5.014,\n",
       " 5.017,\n",
       " 5.042,\n",
       " 5.001,\n",
       " 5.029333333333334,\n",
       " 5.003333333333333,\n",
       " 4.979333333333333,\n",
       " 5.014333333333333,\n",
       " 5.02,\n",
       " 5.043333333333333,\n",
       " 4.93,\n",
       " 4.9943333333333335,\n",
       " 5.0183333333333335,\n",
       " 5.035,\n",
       " 4.993,\n",
       " 5.028666666666667,\n",
       " 4.984,\n",
       " 5.0376666666666665,\n",
       " 5.025666666666667,\n",
       " 5.026,\n",
       " 5.020333333333333,\n",
       " 5.002,\n",
       " 4.937333333333333,\n",
       " 4.992333333333334,\n",
       " 4.980333333333333,\n",
       " 5.002666666666666,\n",
       " 5.001666666666667,\n",
       " 4.984,\n",
       " 5.019666666666667,\n",
       " 4.99,\n",
       " 5.060333333333333,\n",
       " 5.006,\n",
       " 4.984333333333334,\n",
       " 5.032,\n",
       " 5.062,\n",
       " 5.018,\n",
       " 4.9526666666666666,\n",
       " 4.991666666666666,\n",
       " 4.994,\n",
       " 5.0793333333333335,\n",
       " 5.014,\n",
       " 5.040333333333334,\n",
       " 4.96,\n",
       " 4.9816666666666665,\n",
       " 5.083333333333333,\n",
       " 5.016,\n",
       " 5.022333333333333,\n",
       " 5.02,\n",
       " 4.99,\n",
       " 4.952,\n",
       " 5.048333333333333,\n",
       " 5.011666666666667,\n",
       " 5.01,\n",
       " 4.992,\n",
       " 5.031666666666666,\n",
       " 4.985666666666667,\n",
       " 4.975,\n",
       " 5.021,\n",
       " 5.006666666666667,\n",
       " 5.019666666666667,\n",
       " 5.028333333333333,\n",
       " 5.063666666666666,\n",
       " 5.009333333333333,\n",
       " 5.035,\n",
       " 4.979666666666667,\n",
       " 4.990666666666667,\n",
       " 5.013,\n",
       " 4.979333333333333,\n",
       " 4.987,\n",
       " 4.975333333333333,\n",
       " 5.040666666666667,\n",
       " 5.024333333333334,\n",
       " 5.012666666666667,\n",
       " 4.984666666666667,\n",
       " 5.001,\n",
       " 5.055666666666666,\n",
       " 5.022666666666667,\n",
       " 4.991333333333333,\n",
       " 5.007,\n",
       " 5.006666666666667,\n",
       " 4.916666666666667,\n",
       " 4.988,\n",
       " 5.015666666666666,\n",
       " 4.964333333333333,\n",
       " 5.0,\n",
       " 5.042333333333334,\n",
       " 5.047666666666666,\n",
       " 5.0473333333333334,\n",
       " 5.0023333333333335,\n",
       " 4.991333333333333,\n",
       " 5.033666666666667,\n",
       " 4.972666666666667,\n",
       " 4.956333333333333,\n",
       " 4.985,\n",
       " 4.998666666666667,\n",
       " 5.002,\n",
       " 5.020666666666667,\n",
       " 5.012333333333333,\n",
       " 5.023666666666666,\n",
       " 5.067333333333333,\n",
       " 5.008,\n",
       " 5.033333333333333,\n",
       " 4.984666666666667,\n",
       " 5.0,\n",
       " 5.000666666666667,\n",
       " 4.997333333333334,\n",
       " 5.013333333333334,\n",
       " 4.97,\n",
       " 5.036666666666667,\n",
       " 5.025666666666667,\n",
       " 4.981333333333334,\n",
       " 5.030333333333333,\n",
       " 5.014333333333333,\n",
       " 5.042,\n",
       " 5.009666666666667,\n",
       " 5.012666666666667,\n",
       " 5.042,\n",
       " 4.969666666666667,\n",
       " 5.055666666666666,\n",
       " 4.971,\n",
       " 4.995333333333333,\n",
       " 5.0136666666666665,\n",
       " 5.0136666666666665,\n",
       " 5.024,\n",
       " 5.026666666666666,\n",
       " 5.080333333333333,\n",
       " 5.003,\n",
       " 5.014666666666667,\n",
       " 4.986666666666666,\n",
       " 5.013,\n",
       " 5.022,\n",
       " 5.009666666666667,\n",
       " 5.008666666666667,\n",
       " 4.986,\n",
       " 5.0023333333333335,\n",
       " 5.012333333333333,\n",
       " 5.022,\n",
       " 5.062,\n",
       " 5.009333333333333,\n",
       " 4.997333333333334,\n",
       " 5.013333333333334,\n",
       " 5.052,\n",
       " 5.014,\n",
       " 5.022,\n",
       " 4.990333333333333,\n",
       " 5.009666666666667,\n",
       " 5.002,\n",
       " 4.957333333333334,\n",
       " 4.980333333333333,\n",
       " 5.009,\n",
       " 5.014,\n",
       " 4.988666666666667,\n",
       " 5.027666666666667,\n",
       " 5.037333333333334,\n",
       " 5.04,\n",
       " 4.968333333333334,\n",
       " 5.015666666666666,\n",
       " 5.016333333333334,\n",
       " 4.950333333333333,\n",
       " 4.988,\n",
       " 4.995666666666667,\n",
       " 4.986666666666666,\n",
       " 4.997,\n",
       " 5.0183333333333335,\n",
       " 5.0023333333333335,\n",
       " 4.989,\n",
       " 4.983,\n",
       " 4.9943333333333335,\n",
       " 5.033,\n",
       " 4.9736666666666665,\n",
       " 5.016,\n",
       " 5.014,\n",
       " 4.9623333333333335,\n",
       " 4.988333333333333,\n",
       " 5.028333333333333,\n",
       " 4.996333333333333,\n",
       " 5.039,\n",
       " 5.031,\n",
       " 5.0553333333333335,\n",
       " 4.998333333333333,\n",
       " 5.03,\n",
       " 5.058333333333334,\n",
       " 4.967,\n",
       " 4.975,\n",
       " 5.017333333333333,\n",
       " 4.976333333333334,\n",
       " 5.013333333333334,\n",
       " 4.983666666666666,\n",
       " 4.984333333333334,\n",
       " 4.984,\n",
       " 5.053,\n",
       " 5.065666666666667,\n",
       " 4.987333333333333,\n",
       " 4.965,\n",
       " 4.965,\n",
       " 5.004666666666667,\n",
       " 4.964333333333333,\n",
       " 4.9976666666666665,\n",
       " 5.026,\n",
       " 4.985666666666667,\n",
       " 5.000333333333334,\n",
       " 5.022666666666667,\n",
       " 4.999,\n",
       " 5.0473333333333334,\n",
       " 4.9783333333333335,\n",
       " 4.992333333333334,\n",
       " 4.987,\n",
       " 5.03,\n",
       " 5.035,\n",
       " 4.993666666666667,\n",
       " 4.99,\n",
       " 5.029333333333334,\n",
       " 5.003333333333333,\n",
       " 5.018666666666666,\n",
       " 4.9896666666666665,\n",
       " 4.990666666666667,\n",
       " 4.998,\n",
       " 4.965333333333334,\n",
       " 4.998666666666667,\n",
       " 5.008333333333334,\n",
       " 5.048333333333333,\n",
       " 4.985333333333333,\n",
       " 4.996333333333333,\n",
       " 4.990333333333333,\n",
       " 4.995666666666667,\n",
       " 4.98,\n",
       " 4.974333333333333,\n",
       " 4.972666666666667,\n",
       " 4.999333333333333,\n",
       " 4.991333333333333,\n",
       " 5.034666666666666,\n",
       " 5.019,\n",
       " 4.975,\n",
       " 4.987,\n",
       " 5.0103333333333335,\n",
       " 5.003666666666667,\n",
       " 4.974,\n",
       " 4.999666666666666,\n",
       " 5.009666666666667,\n",
       " 4.988333333333333,\n",
       " 5.056666666666667,\n",
       " 4.969333333333333,\n",
       " 5.030333333333333,\n",
       " 5.031333333333333,\n",
       " 5.052333333333333,\n",
       " 4.995666666666667,\n",
       " 5.057,\n",
       " 4.933333333333334,\n",
       " 4.9896666666666665,\n",
       " 5.028333333333333,\n",
       " 5.036666666666667,\n",
       " 5.009666666666667,\n",
       " 5.035,\n",
       " 5.019333333333333,\n",
       " 5.032666666666667,\n",
       " 4.9703333333333335,\n",
       " 5.028333333333333,\n",
       " 5.039666666666666,\n",
       " 5.002,\n",
       " 5.009666666666667,\n",
       " 4.977666666666667,\n",
       " 5.115333333333333,\n",
       " 5.010666666666666,\n",
       " 5.011666666666667,\n",
       " 4.985333333333333,\n",
       " 5.024666666666667,\n",
       " 5.020666666666667,\n",
       " 4.9543333333333335,\n",
       " 5.017666666666667,\n",
       " 5.041333333333333,\n",
       " 4.988666666666667,\n",
       " 5.0296666666666665,\n",
       " 4.970666666666666,\n",
       " 4.975333333333333,\n",
       " 5.041,\n",
       " 5.007333333333333,\n",
       " 5.025,\n",
       " 5.014333333333333,\n",
       " 5.019,\n",
       " 4.999,\n",
       " 5.002666666666666,\n",
       " 4.994666666666666,\n",
       " 4.976666666666667,\n",
       " 5.077333333333334,\n",
       " 4.995,\n",
       " 4.988666666666667,\n",
       " 4.994666666666666,\n",
       " 4.975333333333333,\n",
       " 5.0103333333333335,\n",
       " 5.043,\n",
       " 4.998333333333333,\n",
       " 4.955333333333333,\n",
       " 4.982666666666667,\n",
       " 5.019,\n",
       " 5.033,\n",
       " 5.064666666666667,\n",
       " 4.990333333333333,\n",
       " 5.035666666666667,\n",
       " 5.017666666666667,\n",
       " 4.9943333333333335,\n",
       " 5.043,\n",
       " 5.002666666666666,\n",
       " 4.999,\n",
       " 5.011333333333333,\n",
       " 4.969,\n",
       " 5.029,\n",
       " 5.005333333333334,\n",
       " 5.022,\n",
       " 4.988666666666667,\n",
       " 4.969666666666667,\n",
       " 5.005333333333334,\n",
       " 5.020333333333333,\n",
       " 5.016333333333334,\n",
       " 4.981,\n",
       " 5.004666666666667,\n",
       " 4.989,\n",
       " 5.001666666666667,\n",
       " 5.023333333333333,\n",
       " 5.004,\n",
       " 5.0103333333333335,\n",
       " 4.992333333333334,\n",
       " 5.038,\n",
       " 5.004333333333333,\n",
       " 4.948,\n",
       " 4.957,\n",
       " 4.9703333333333335,\n",
       " 4.993,\n",
       " 4.988333333333333,\n",
       " 4.970666666666666,\n",
       " 4.999,\n",
       " 5.000666666666667,\n",
       " 5.075333333333333,\n",
       " 4.987666666666667,\n",
       " 4.992666666666667,\n",
       " 4.994,\n",
       " 5.022333333333333,\n",
       " 4.977333333333333,\n",
       " 4.989,\n",
       " 4.985,\n",
       " 4.990666666666667,\n",
       " 5.0343333333333335,\n",
       " 4.972333333333333,\n",
       " 5.016333333333334,\n",
       " 5.020333333333333,\n",
       " 4.971666666666667,\n",
       " 4.943,\n",
       " 5.012,\n",
       " 5.0183333333333335,\n",
       " 4.976666666666667,\n",
       " 5.025333333333333,\n",
       " 4.990666666666667,\n",
       " 5.023333333333333,\n",
       " 5.0056666666666665,\n",
       " 5.016333333333334,\n",
       " 4.911,\n",
       " 5.042,\n",
       " 5.063666666666666,\n",
       " 5.066666666666666,\n",
       " 4.989333333333334,\n",
       " 4.983333333333333,\n",
       " 4.969666666666667,\n",
       " 5.033666666666667,\n",
       " 5.007,\n",
       " 5.024,\n",
       " 4.9896666666666665,\n",
       " 4.996,\n",
       " 4.999333333333333,\n",
       " 5.069,\n",
       " 4.987333333333333,\n",
       " 4.991,\n",
       " 4.98,\n",
       " 4.972333333333333,\n",
       " 4.9976666666666665,\n",
       " 5.055,\n",
       " 5.074333333333334,\n",
       " 5.009666666666667,\n",
       " 4.984333333333334,\n",
       " 4.945666666666667,\n",
       " 4.987,\n",
       " 4.983666666666666,\n",
       " 4.999666666666666,\n",
       " 5.026,\n",
       " 4.963,\n",
       " 4.987333333333333,\n",
       " 5.004333333333333,\n",
       " 5.004333333333333,\n",
       " 5.009,\n",
       " 5.026,\n",
       " 4.983666666666666,\n",
       " 5.069333333333334,\n",
       " 5.015333333333333,\n",
       " 5.042666666666666,\n",
       " 5.05,\n",
       " 5.067666666666667,\n",
       " 5.042666666666666,\n",
       " 4.983666666666666,\n",
       " 5.011333333333333,\n",
       " 5.034,\n",
       " 4.98,\n",
       " 4.956333333333333,\n",
       " 5.007,\n",
       " 5.052,\n",
       " 4.990666666666667,\n",
       " 5.055666666666666,\n",
       " 5.001666666666667,\n",
       " 4.955666666666667,\n",
       " 5.050333333333334,\n",
       " 4.969,\n",
       " 5.0056666666666665,\n",
       " 5.019333333333333,\n",
       " 5.027333333333333,\n",
       " 5.024666666666667,\n",
       " 5.011333333333333,\n",
       " 4.968666666666667,\n",
       " 5.0136666666666665,\n",
       " 4.995,\n",
       " 5.016333333333334,\n",
       " 4.975666666666666,\n",
       " 5.009333333333333,\n",
       " 5.0023333333333335,\n",
       " 4.95,\n",
       " 4.961666666666667,\n",
       " 4.981,\n",
       " 5.016333333333334,\n",
       " 5.036333333333333,\n",
       " 4.985666666666667,\n",
       " 4.968666666666667,\n",
       " 4.998333333333333,\n",
       " 5.052333333333333,\n",
       " 5.042666666666666,\n",
       " 5.049,\n",
       " 4.985333333333333,\n",
       " 5.032666666666667,\n",
       " 5.0263333333333335,\n",
       " 5.031666666666666,\n",
       " 4.993333333333333,\n",
       " 5.037333333333334,\n",
       " 4.986666666666666,\n",
       " 5.014666666666667,\n",
       " 5.032333333333334,\n",
       " 5.037,\n",
       " 4.992333333333334,\n",
       " 4.971333333333333,\n",
       " 5.023,\n",
       " 5.017,\n",
       " 5.009666666666667,\n",
       " 5.027666666666667,\n",
       " 5.017,\n",
       " 5.056666666666667,\n",
       " 5.029333333333334,\n",
       " 4.996333333333333,\n",
       " 5.048333333333333,\n",
       " 5.003333333333333,\n",
       " 4.9976666666666665,\n",
       " 4.998666666666667,\n",
       " 4.998333333333333,\n",
       " 4.967666666666666,\n",
       " 5.033,\n",
       " 4.990666666666667,\n",
       " 5.02,\n",
       " 4.987666666666667,\n",
       " 5.011,\n",
       " 5.031333333333333,\n",
       " 5.008,\n",
       " 4.972333333333333,\n",
       " 4.986666666666666,\n",
       " 5.031333333333333,\n",
       " 4.964,\n",
       " 4.945666666666667,\n",
       " 5.022333333333333,\n",
       " 5.025,\n",
       " 5.006,\n",
       " 4.959333333333333,\n",
       " 4.963,\n",
       " 5.055666666666666,\n",
       " 5.036666666666667,\n",
       " 4.996666666666667,\n",
       " 4.993666666666667,\n",
       " 5.03,\n",
       " 5.026,\n",
       " 5.016,\n",
       " 5.016,\n",
       " 5.04,\n",
       " 5.012333333333333,\n",
       " 5.042,\n",
       " 5.044,\n",
       " 4.982333333333333,\n",
       " 5.030333333333333,\n",
       " 4.998,\n",
       " 5.036333333333333,\n",
       " 5.037,\n",
       " 4.967666666666666,\n",
       " 5.019333333333333,\n",
       " 4.983,\n",
       " 5.014666666666667,\n",
       " 5.000333333333334,\n",
       " 4.9943333333333335,\n",
       " 4.979666666666667,\n",
       " 5.05,\n",
       " 5.0023333333333335,\n",
       " 5.01,\n",
       " 4.981333333333334,\n",
       " 4.955333333333333,\n",
       " 4.973,\n",
       " 4.943666666666667,\n",
       " 5.017333333333333,\n",
       " 4.984333333333334,\n",
       " 4.999,\n",
       " 5.004666666666667,\n",
       " 4.983,\n",
       " 5.055,\n",
       " 5.016,\n",
       " 5.012,\n",
       " 4.969666666666667,\n",
       " 5.0023333333333335,\n",
       " 5.035333333333333,\n",
       " 5.0136666666666665,\n",
       " 5.022666666666667,\n",
       " 4.953333333333333,\n",
       " 4.992,\n",
       " 5.025,\n",
       " 5.005,\n",
       " 4.976,\n",
       " 4.969,\n",
       " 5.019666666666667,\n",
       " 5.012,\n",
       " 4.975,\n",
       " 5.050666666666666,\n",
       " 5.022666666666667,\n",
       " 5.013333333333334,\n",
       " 5.026,\n",
       " 5.026,\n",
       " 4.973333333333334,\n",
       " 5.027333333333333,\n",
       " 4.987333333333333,\n",
       " 4.993666666666667,\n",
       " 5.017,\n",
       " 5.019333333333333,\n",
       " 4.971,\n",
       " 5.043,\n",
       " 5.028,\n",
       " 4.983666666666666,\n",
       " 5.043,\n",
       " 5.031666666666666,\n",
       " 5.021,\n",
       " 4.9703333333333335,\n",
       " 5.025666666666667,\n",
       " 4.9863333333333335,\n",
       " 5.015,\n",
       " 5.006333333333333,\n",
       " 4.98,\n",
       " 5.004333333333333,\n",
       " 4.993,\n",
       " 5.004666666666667,\n",
       " 4.975333333333333,\n",
       " 4.985666666666667,\n",
       " 4.978666666666666,\n",
       " 4.965333333333334,\n",
       " 4.989333333333334,\n",
       " 4.993333333333333,\n",
       " 5.016333333333334,\n",
       " 4.918,\n",
       " 5.021,\n",
       " 5.013333333333334,\n",
       " 4.991333333333333,\n",
       " 5.045333333333334,\n",
       " 5.024333333333334,\n",
       " 5.014,\n",
       " 5.011,\n",
       " 4.992,\n",
       " 4.979,\n",
       " 4.954666666666666,\n",
       " 5.067,\n",
       " 5.032,\n",
       " 5.073,\n",
       " 5.017,\n",
       " 4.993,\n",
       " 5.01,\n",
       " 5.017666666666667,\n",
       " 4.999,\n",
       " 4.9703333333333335,\n",
       " 5.085666666666667,\n",
       " 5.002666666666666,\n",
       " 5.014666666666667,\n",
       " 4.946666666666666,\n",
       " 5.036333333333333,\n",
       " 4.994666666666666,\n",
       " 4.966666666666667,\n",
       " 5.004666666666667,\n",
       " 5.042,\n",
       " 5.02,\n",
       " 5.027,\n",
       " 4.977333333333333,\n",
       " 4.997333333333334,\n",
       " 5.008666666666667,\n",
       " 4.993333333333333,\n",
       " 4.989,\n",
       " 5.076333333333333,\n",
       " 4.992,\n",
       " 5.025333333333333,\n",
       " 5.032,\n",
       " 5.040666666666667,\n",
       " 4.988666666666667,\n",
       " 5.041333333333333,\n",
       " 5.039,\n",
       " 4.984666666666667,\n",
       " 5.033333333333333,\n",
       " 5.038666666666667,\n",
       " 4.967333333333333,\n",
       " 5.026666666666666,\n",
       " 4.996333333333333,\n",
       " 5.031333333333333,\n",
       " 4.9896666666666665,\n",
       " 4.952,\n",
       " 4.992333333333334,\n",
       " 5.030666666666667,\n",
       " 4.956333333333333,\n",
       " 4.9816666666666665,\n",
       " 4.983666666666666,\n",
       " 5.042,\n",
       " 5.019333333333333,\n",
       " 4.950333333333333,\n",
       " 4.919666666666667,\n",
       " 5.011666666666667,\n",
       " 5.054333333333333,\n",
       " 4.988666666666667,\n",
       " 4.963333333333333,\n",
       " 5.003333333333333,\n",
       " 5.060333333333333,\n",
       " 4.993333333333333,\n",
       " 5.0,\n",
       " 5.028,\n",
       " 5.006,\n",
       " 5.013,\n",
       " 5.018,\n",
       " 4.976,\n",
       " 5.011,\n",
       " 4.974333333333333,\n",
       " 5.044333333333333,\n",
       " 5.021,\n",
       " 5.032333333333334,\n",
       " 5.051333333333333,\n",
       " 5.012666666666667,\n",
       " 5.024333333333334,\n",
       " 5.0023333333333335,\n",
       " 4.957,\n",
       " 4.966333333333333,\n",
       " 5.125333333333334,\n",
       " 5.098333333333334,\n",
       " 4.991666666666666,\n",
       " 4.966333333333333,\n",
       " 4.9783333333333335,\n",
       " 5.003666666666667,\n",
       " 5.076,\n",
       " 5.023333333333333,\n",
       " 4.97,\n",
       " 5.028,\n",
       " 5.043666666666667,\n",
       " 5.014333333333333,\n",
       " 4.971666666666667,\n",
       " 4.969,\n",
       " 4.986666666666666,\n",
       " 5.028,\n",
       " 5.0263333333333335,\n",
       " 5.008666666666667,\n",
       " 4.983666666666666,\n",
       " 5.003333333333333,\n",
       " 5.062666666666667,\n",
       " 5.006666666666667,\n",
       " 4.994666666666666,\n",
       " 5.020333333333333,\n",
       " 5.0056666666666665,\n",
       " 5.035666666666667,\n",
       " 4.989,\n",
       " 5.000666666666667,\n",
       " 4.983666666666666,\n",
       " 4.990333333333333,\n",
       " 5.039333333333333,\n",
       " 4.989333333333334,\n",
       " 5.036,\n",
       " 5.047666666666666,\n",
       " 5.019666666666667,\n",
       " 4.995,\n",
       " 5.0263333333333335,\n",
       " 5.044333333333333,\n",
       " 5.013,\n",
       " 5.035666666666667,\n",
       " 5.008666666666667,\n",
       " 5.014666666666667,\n",
       " 4.964666666666667,\n",
       " 4.992,\n",
       " 5.012,\n",
       " 4.979,\n",
       " 5.008666666666667,\n",
       " 4.995333333333333,\n",
       " 4.959666666666666,\n",
       " 5.020666666666667,\n",
       " 5.02,\n",
       " 5.003666666666667,\n",
       " 5.015333333333333,\n",
       " 4.955333333333333,\n",
       " 4.991,\n",
       " 4.995,\n",
       " 5.017666666666667,\n",
       " 5.008,\n",
       " 4.982333333333333,\n",
       " 5.028,\n",
       " 5.009333333333333,\n",
       " 5.003333333333333,\n",
       " ...]"
      ]
     },
     "execution_count": 56,
     "metadata": {},
     "output_type": "execute_result"
    }
   ],
   "source": [
    "mean_of_samples"
   ]
  },
  {
   "cell_type": "code",
   "execution_count": 57,
   "id": "71128645-f821-406e-b610-99dd00ea7b15",
   "metadata": {},
   "outputs": [
    {
     "data": {
      "text/plain": [
       "(4.995718409423636, 5.017208483265632)"
      ]
     },
     "execution_count": 57,
     "metadata": {},
     "output_type": "execute_result"
    }
   ],
   "source": [
    "#confidence intervl\n",
    "np.mean(mean_of_samples)-margin_of_error, np.mean(mean_of_samples)+margin_of_error"
   ]
  },
  {
   "cell_type": "markdown",
   "id": "749577b6-3daa-4e50-af39-6edf8ed01e3e",
   "metadata": {},
   "source": [
    "ZTest"
   ]
  },
  {
   "cell_type": "code",
   "execution_count": 58,
   "id": "019a724d-8202-4c9c-85d3-09d346f9c1ba",
   "metadata": {},
   "outputs": [
    {
     "data": {
      "text/plain": [
       "array([ 1.78112040e+00, -1.62048979e+00, -1.05478889e+00,  2.47726658e-01,\n",
       "       -1.05120920e+00,  8.30056185e-01, -5.15912665e-01, -6.00270748e-01,\n",
       "       -1.09019537e+00,  7.46092885e-01, -9.62369302e-01,  1.97716722e+00,\n",
       "       -6.53626426e-01,  6.74445267e-01, -2.52621258e-01, -1.37672601e+00,\n",
       "        4.23282295e-02,  3.85258399e-01,  1.67033281e+00, -1.42881637e-01,\n",
       "        1.37420443e+00,  2.53743451e+00,  7.03077818e-01, -2.32800690e-01,\n",
       "        8.62795229e-01, -7.04006264e-01,  1.41021216e+00, -9.42945957e-01,\n",
       "        1.69519462e-01, -6.33376655e-01, -1.01021872e+00, -2.53961113e-01,\n",
       "        4.26112217e-01,  1.06899127e+00,  8.41700258e-01, -8.52759333e-01,\n",
       "        4.20143460e-02,  1.60219180e+00,  4.94841483e-01,  8.71336364e-02,\n",
       "       -8.79675288e-01, -9.94416328e-01, -7.79478643e-02,  5.93988570e-01,\n",
       "        1.58006072e+00,  4.59064166e-01,  1.43252924e+00,  1.65719612e+00,\n",
       "        6.12286286e-01,  3.60366690e-04, -3.54691879e-01,  2.06667004e-01,\n",
       "        8.35677852e-01, -5.86323164e-01,  1.86754399e+00,  1.70476106e+00,\n",
       "       -6.74145310e-01,  1.29894198e-01, -5.44060350e-01,  1.04742149e+00,\n",
       "       -3.27344242e-01,  1.10123330e-01,  2.97957187e+00, -9.98810716e-01,\n",
       "       -1.14221958e+00,  8.45301598e-01, -2.22957764e+00,  2.54162684e-01,\n",
       "        5.42876509e-02, -1.30213438e+00, -4.01694376e-01,  2.26147568e-01,\n",
       "        4.43392124e-01,  2.17590326e-02, -3.07394793e-01,  1.06635577e+00,\n",
       "        2.01441334e+00, -1.06095249e+00, -1.26299933e+00,  9.14145973e-01,\n",
       "        7.92226355e-01,  2.79767904e-01,  1.61608908e-01,  4.44029805e-02,\n",
       "       -1.41518173e+00, -6.75190707e-01, -1.39128872e+00, -2.11355261e+00,\n",
       "        1.18007881e-02, -9.25019478e-02, -4.17661943e-01,  1.09810730e+00,\n",
       "        7.12662436e-01, -1.89467038e-01, -5.11703857e-01,  2.62040789e-01,\n",
       "        1.14081333e+00, -7.77287423e-01,  5.83939130e-01,  5.44028079e-01])"
      ]
     },
     "execution_count": 58,
     "metadata": {},
     "output_type": "execute_result"
    }
   ],
   "source": [
    "from numpy.random import randn\n",
    "population=randn(100)\n",
    "population"
   ]
  },
  {
   "cell_type": "code",
   "execution_count": 59,
   "id": "21fca93a-e2f1-41d6-8b35-00d9cbd65018",
   "metadata": {},
   "outputs": [
    {
     "name": "stderr",
     "output_type": "stream",
     "text": [
      "C:\\Users\\Admin\\AppData\\Local\\Temp\\ipykernel_12016\\2958836585.py:1: UserWarning: \n",
      "\n",
      "`distplot` is a deprecated function and will be removed in seaborn v0.14.0.\n",
      "\n",
      "Please adapt your code to use either `displot` (a figure-level function with\n",
      "similar flexibility) or `histplot` (an axes-level function for histograms).\n",
      "\n",
      "For a guide to updating your code to use the new functions, please see\n",
      "https://gist.github.com/mwaskom/de44147ed2974457ad6372750bbe5751\n",
      "\n",
      "  sns.distplot(population)\n"
     ]
    },
    {
     "data": {
      "text/plain": [
       "<Axes: ylabel='Density'>"
      ]
     },
     "execution_count": 59,
     "metadata": {},
     "output_type": "execute_result"
    },
    {
     "data": {
      "image/png": "[encoded data removed]",
      "text/plain": [
       "<Figure size 640x480 with 1 Axes>"
      ]
     },
     "metadata": {},
     "output_type": "display_data"
    }
   ],
   "source": [
    "sns.distplot(population)"
   ]
  },
  {
   "cell_type": "code",
   "execution_count": 60,
   "id": "5f758299-c7f8-4308-b424-c0f1e4045eae",
   "metadata": {},
   "outputs": [
    {
     "data": {
      "text/plain": [
       "(0.11983882927867333, 1.0114584755109897)"
      ]
     },
     "execution_count": 60,
     "metadata": {},
     "output_type": "execute_result"
    }
   ],
   "source": [
    "np.mean(population),np.std(population)"
   ]
  },
  {
   "cell_type": "code",
   "execution_count": 61,
   "id": "c71d42eb-93ec-4ee7-9c53-3d1b04aeadc4",
   "metadata": {},
   "outputs": [],
   "source": [
    "null_mean=0.05 #claim\n",
    "#if pvalue is <=0.05 -- reject null hypothesis\n",
    "#if pvalue is >=0.05 -- fail null hypothesis\n",
    "\n",
    "from statsmodels.stats.weightstats import ztest"
   ]
  },
  {
   "cell_type": "code",
   "execution_count": 62,
   "id": "7c983dda-33c1-430a-afb7-40740cfe4b8e",
   "metadata": {},
   "outputs": [],
   "source": [
    "zscore, pvalue = ztest(population, value = null_mean, alternative = 'larger') #here alternative means, mean is greater than null mean"
   ]
  },
  {
   "cell_type": "code",
   "execution_count": 63,
   "id": "5f23a58c-80f6-4b03-8a8d-8edcb867b739",
   "metadata": {},
   "outputs": [
    {
     "data": {
      "text/plain": [
       "0.6870154280867355"
      ]
     },
     "execution_count": 63,
     "metadata": {},
     "output_type": "execute_result"
    }
   ],
   "source": [
    "zscore"
   ]
  },
  {
   "cell_type": "code",
   "execution_count": 64,
   "id": "57b82db6-ea08-438d-a818-498926e2932e",
   "metadata": {},
   "outputs": [
    {
     "data": {
      "text/plain": [
       "0.24603650312917724"
      ]
     },
     "execution_count": 64,
     "metadata": {},
     "output_type": "execute_result"
    }
   ],
   "source": [
    "pvalue"
   ]
  },
  {
   "cell_type": "code",
   "execution_count": 65,
   "id": "8a79e243-da72-401e-9ad0-7c6a948900b4",
   "metadata": {},
   "outputs": [
    {
     "name": "stdout",
     "output_type": "stream",
     "text": [
      "Fail to reject null hypothesis\n"
     ]
    }
   ],
   "source": [
    "if pvalue<=0.05:\n",
    "    print(\"Reject null hypothesis\")\n",
    "else:\n",
    "    print(\"Fail to reject null hypothesis\")"
   ]
  },
  {
   "cell_type": "code",
   "execution_count": null,
   "id": "e9991cf5-4fdf-4258-9a7e-0941f66884a9",
   "metadata": {},
   "outputs": [],
   "source": []
  },
  {
   "cell_type": "code",
   "execution_count": 66,
   "id": "4ea550c2-4e1c-45c9-aad5-b0801fa48bc3",
   "metadata": {},
   "outputs": [],
   "source": [
    "#Zcritical approach\n",
    "import scipy.stats as statas\n",
    "sample_mean = 100\n",
    "population_mean=90\n",
    "population_std=16\n",
    "sample_size=60\n",
    "alpha=0.05"
   ]
  },
  {
   "cell_type": "code",
   "execution_count": 67,
   "id": "2ab74dcb-39aa-43fe-a6ce-7d8b03c03f1f",
   "metadata": {},
   "outputs": [],
   "source": [
    "zscore = (sample_mean - population_mean)/(population_std/np.sqrt(sample_size))"
   ]
  },
  {
   "cell_type": "code",
   "execution_count": 68,
   "id": "b8511c89-b4ae-4fbd-999c-a66718e49412",
   "metadata": {},
   "outputs": [
    {
     "data": {
      "text/plain": [
       "4.841229182759272"
      ]
     },
     "execution_count": 68,
     "metadata": {},
     "output_type": "execute_result"
    }
   ],
   "source": [
    "zscore"
   ]
  },
  {
   "cell_type": "code",
   "execution_count": 69,
   "id": "948f5460-fbf8-4342-84fa-717be1d86f47",
   "metadata": {},
   "outputs": [],
   "source": [
    "zcritical=stats.norm.ppf(1-alpha)"
   ]
  },
  {
   "cell_type": "code",
   "execution_count": 70,
   "id": "06bb195b-5f24-42b9-852d-014838accb8a",
   "metadata": {},
   "outputs": [
    {
     "data": {
      "text/plain": [
       "1.6448536269514722"
      ]
     },
     "execution_count": 70,
     "metadata": {},
     "output_type": "execute_result"
    }
   ],
   "source": [
    "zcritical"
   ]
  },
  {
   "cell_type": "code",
   "execution_count": 71,
   "id": "f2e66ad4-5ecc-4110-943a-9a89d5cf89de",
   "metadata": {},
   "outputs": [
    {
     "name": "stdout",
     "output_type": "stream",
     "text": [
      "Reject H0\n"
     ]
    }
   ],
   "source": [
    "if zscore > zcritical :\n",
    "    print(\"Reject H0\")\n",
    "else:\n",
    "    print(\"Reject H0\")"
   ]
  },
  {
   "cell_type": "code",
   "execution_count": 72,
   "id": "322b2020-3318-4ad5-b9bd-8ff80a86f111",
   "metadata": {},
   "outputs": [
    {
     "data": {
      "text/plain": [
       "6.451922262007415e-07"
      ]
     },
     "execution_count": 72,
     "metadata": {},
     "output_type": "execute_result"
    }
   ],
   "source": [
    "#pvalue approach using scipy\n",
    "pvalue = 1-stats.norm.cdf(zscore)\n",
    "pvalue"
   ]
  },
  {
   "cell_type": "code",
   "execution_count": 73,
   "id": "72f0d5e6-6940-4872-bfcc-e59033e405ab",
   "metadata": {},
   "outputs": [
    {
     "name": "stdout",
     "output_type": "stream",
     "text": [
      "Reject the H0\n"
     ]
    }
   ],
   "source": [
    "if pvalue <= alpha:\n",
    "    print(\"Reject the H0\")\n",
    "else:\n",
    "    print(\"Fail to reject H0\")"
   ]
  },
  {
   "cell_type": "code",
   "execution_count": 74,
   "id": "dc989592-2d69-4ba4-a0ef-0dbd6113b5e5",
   "metadata": {},
   "outputs": [],
   "source": [
    "#T test >> ss < 30 or sigma of pop is not given\n",
    "#one sample t test (wrt one independent sample)\n",
    "#two sample t test (wrt two independent sample)\n",
    "#paired t test(two samples from same population from different time interval)"
   ]
  },
  {
   "cell_type": "code",
   "execution_count": 75,
   "id": "5ec0c3be-1a6e-4f3c-99f6-f07d2af45387",
   "metadata": {},
   "outputs": [
    {
     "data": {
      "text/plain": [
       "array([12, 20, 35, 17, 48, 28, 42, 33, 45, 42, 32, 19, 42, 28, 37, 47, 49,\n",
       "       30, 13, 22, 12, 36, 15, 32, 12, 23, 23, 25, 27, 43, 35, 29, 26, 22,\n",
       "       16, 24, 16, 49, 16, 38, 43, 13, 47, 29, 12, 11, 23, 43, 13, 28])"
      ]
     },
     "execution_count": 75,
     "metadata": {},
     "output_type": "execute_result"
    }
   ],
   "source": [
    "#One sample t-test\n",
    "population=np.random.randint(10,50,50)\n",
    "population"
   ]
  },
  {
   "cell_type": "code",
   "execution_count": 76,
   "id": "bb3f50f1-a038-499f-b919-454db961fa4e",
   "metadata": {},
   "outputs": [],
   "source": [
    "sample=np.random.choice(population,20)"
   ]
  },
  {
   "cell_type": "code",
   "execution_count": 77,
   "id": "4ffe2281-377c-452e-ac9d-88c23767cf05",
   "metadata": {},
   "outputs": [
    {
     "data": {
      "text/plain": [
       "24.45"
      ]
     },
     "execution_count": 77,
     "metadata": {},
     "output_type": "execute_result"
    }
   ],
   "source": [
    "np.mean(sample)"
   ]
  },
  {
   "cell_type": "code",
   "execution_count": 78,
   "id": "be7978e8-3939-4b5c-8aa4-2957bb0d3b9b",
   "metadata": {},
   "outputs": [
    {
     "data": {
      "text/plain": [
       "TtestResult(statistic=-0.23790571343847322, pvalue=0.8145009622717203, df=19)"
      ]
     },
     "execution_count": 78,
     "metadata": {},
     "output_type": "execute_result"
    }
   ],
   "source": [
    "null_value=25 # the mean of population is 25\n",
    "import scipy \n",
    "scipy.stats.ttest_1samp(sample,null_value)"
   ]
  },
  {
   "cell_type": "code",
   "execution_count": 79,
   "id": "8178a9ac-f7a1-4efe-8e44-9a7fb356a193",
   "metadata": {},
   "outputs": [],
   "source": [
    "#Two sample ttest"
   ]
  },
  {
   "cell_type": "code",
   "execution_count": 80,
   "id": "3c3d7bde-f5ea-4b21-a6e1-2a22fc08b1e6",
   "metadata": {},
   "outputs": [],
   "source": [
    "virat_score=np.random.choice(population,20)"
   ]
  },
  {
   "cell_type": "code",
   "execution_count": 81,
   "id": "8cc9677d-2008-4e02-a4e8-d0102823ab3f",
   "metadata": {},
   "outputs": [
    {
     "data": {
      "text/plain": [
       "array([32, 20, 29, 13, 48, 33, 32, 42, 20, 47, 30, 26, 13, 27, 11, 12, 29,\n",
       "       37, 25, 28])"
      ]
     },
     "execution_count": 81,
     "metadata": {},
     "output_type": "execute_result"
    }
   ],
   "source": [
    "virat_score"
   ]
  },
  {
   "cell_type": "code",
   "execution_count": 82,
   "id": "254cdb53-950f-4e8a-94a6-b8ade2fb7e94",
   "metadata": {},
   "outputs": [],
   "source": [
    "rohit_score=np.random.choice(population,20)"
   ]
  },
  {
   "cell_type": "code",
   "execution_count": 83,
   "id": "e5e62a5c-a034-43d5-afc2-b0d808e63bd1",
   "metadata": {},
   "outputs": [
    {
     "data": {
      "text/plain": [
       "array([42, 16, 19, 22, 45, 22, 42, 42, 48, 12, 24, 49, 48, 30, 43, 23, 30,\n",
       "       42, 48, 33])"
      ]
     },
     "execution_count": 83,
     "metadata": {},
     "output_type": "execute_result"
    }
   ],
   "source": [
    "rohit_score"
   ]
  },
  {
   "cell_type": "code",
   "execution_count": 84,
   "id": "da5e417c-9dda-48fa-9829-f96172a5d213",
   "metadata": {},
   "outputs": [
    {
     "data": {
      "text/plain": [
       "(34.0, 27.7)"
      ]
     },
     "execution_count": 84,
     "metadata": {},
     "output_type": "execute_result"
    }
   ],
   "source": [
    "np.mean(rohit_score),np.mean(virat_score)"
   ]
  },
  {
   "cell_type": "code",
   "execution_count": 85,
   "id": "9166df74-ba54-49fe-838a-508ca0644d76",
   "metadata": {},
   "outputs": [
    {
     "data": {
      "text/plain": [
       "TtestResult(statistic=-1.7226873785851873, pvalue=0.09307557694666202, df=38.0)"
      ]
     },
     "execution_count": 85,
     "metadata": {},
     "output_type": "execute_result"
    }
   ],
   "source": [
    "scipy.stats.ttest_ind(virat_score,rohit_score)"
   ]
  },
  {
   "cell_type": "code",
   "execution_count": 86,
   "id": "880a25b6-9cd5-465f-85a6-48528d4698ed",
   "metadata": {},
   "outputs": [],
   "source": [
    "# if pvalue>0.05 fail to rehect h0"
   ]
  },
  {
   "cell_type": "code",
   "execution_count": 87,
   "id": "5430dd83-e177-48e8-9842-2a202e2141da",
   "metadata": {},
   "outputs": [],
   "source": [
    "#paired t test >> two sample from same population at different time interval\n",
    "rohit_score_first_inning = [31, 36, 46, 24, 48, 46, 47, 47, 16, 35, 45, 37, 24, 29, 27, 42, 49, 37, 47, 46]\n",
    "rohit_score_second_inning = [31, 76, 46, 24, 48, 23, 49, 47, 37, 35, 45, 37, 74, 39, 27, 42, 49, 37, 47, 46]"
   ]
  },
  {
   "cell_type": "code",
   "execution_count": 88,
   "id": "8ca6ec83-1091-4d8e-9bc8-e11bf115572c",
   "metadata": {},
   "outputs": [
    {
     "data": {
      "text/plain": [
       "(37.95, 42.95)"
      ]
     },
     "execution_count": 88,
     "metadata": {},
     "output_type": "execute_result"
    }
   ],
   "source": [
    "np.mean(rohit_score_first_inning), np.mean(rohit_score_second_inning)"
   ]
  },
  {
   "cell_type": "code",
   "execution_count": 89,
   "id": "0cf84421-becb-4920-9d50-1e8ce09fbdfb",
   "metadata": {},
   "outputs": [
    {
     "data": {
      "text/plain": [
       "TtestResult(statistic=-1.4256648712805027, pvalue=0.17018806846147658, df=19)"
      ]
     },
     "execution_count": 89,
     "metadata": {},
     "output_type": "execute_result"
    }
   ],
   "source": [
    "scipy.stats.ttest_rel(rohit_score_first_inning, rohit_score_second_inning)"
   ]
  },
  {
   "cell_type": "code",
   "execution_count": 90,
   "id": "0dd0eba7-9073-4857-a4be-2be892d3fb39",
   "metadata": {},
   "outputs": [
    {
     "data": {
      "text/html": [
       "<div>\n",
       "<style scoped>\n",
       "    .dataframe tbody tr th:only-of-type {\n",
       "        vertical-align: middle;\n",
       "    }\n",
       "\n",
       "    .dataframe tbody tr th {\n",
       "        vertical-align: top;\n",
       "    }\n",
       "\n",
       "    .dataframe thead th {\n",
       "        text-align: right;\n",
       "    }\n",
       "</style>\n",
       "<table border=\"1\" class=\"dataframe\">\n",
       "  <thead>\n",
       "    <tr style=\"text-align: right;\">\n",
       "      <th></th>\n",
       "      <th>total_bill</th>\n",
       "      <th>tip</th>\n",
       "      <th>sex</th>\n",
       "      <th>smoker</th>\n",
       "      <th>day</th>\n",
       "      <th>time</th>\n",
       "      <th>size</th>\n",
       "    </tr>\n",
       "  </thead>\n",
       "  <tbody>\n",
       "    <tr>\n",
       "      <th>0</th>\n",
       "      <td>16.99</td>\n",
       "      <td>1.01</td>\n",
       "      <td>Female</td>\n",
       "      <td>No</td>\n",
       "      <td>Sun</td>\n",
       "      <td>Dinner</td>\n",
       "      <td>2</td>\n",
       "    </tr>\n",
       "    <tr>\n",
       "      <th>1</th>\n",
       "      <td>10.34</td>\n",
       "      <td>1.66</td>\n",
       "      <td>Male</td>\n",
       "      <td>No</td>\n",
       "      <td>Sun</td>\n",
       "      <td>Dinner</td>\n",
       "      <td>3</td>\n",
       "    </tr>\n",
       "    <tr>\n",
       "      <th>2</th>\n",
       "      <td>21.01</td>\n",
       "      <td>3.50</td>\n",
       "      <td>Male</td>\n",
       "      <td>No</td>\n",
       "      <td>Sun</td>\n",
       "      <td>Dinner</td>\n",
       "      <td>3</td>\n",
       "    </tr>\n",
       "    <tr>\n",
       "      <th>3</th>\n",
       "      <td>23.68</td>\n",
       "      <td>3.31</td>\n",
       "      <td>Male</td>\n",
       "      <td>No</td>\n",
       "      <td>Sun</td>\n",
       "      <td>Dinner</td>\n",
       "      <td>2</td>\n",
       "    </tr>\n",
       "    <tr>\n",
       "      <th>4</th>\n",
       "      <td>24.59</td>\n",
       "      <td>3.61</td>\n",
       "      <td>Female</td>\n",
       "      <td>No</td>\n",
       "      <td>Sun</td>\n",
       "      <td>Dinner</td>\n",
       "      <td>4</td>\n",
       "    </tr>\n",
       "    <tr>\n",
       "      <th>...</th>\n",
       "      <td>...</td>\n",
       "      <td>...</td>\n",
       "      <td>...</td>\n",
       "      <td>...</td>\n",
       "      <td>...</td>\n",
       "      <td>...</td>\n",
       "      <td>...</td>\n",
       "    </tr>\n",
       "    <tr>\n",
       "      <th>239</th>\n",
       "      <td>29.03</td>\n",
       "      <td>5.92</td>\n",
       "      <td>Male</td>\n",
       "      <td>No</td>\n",
       "      <td>Sat</td>\n",
       "      <td>Dinner</td>\n",
       "      <td>3</td>\n",
       "    </tr>\n",
       "    <tr>\n",
       "      <th>240</th>\n",
       "      <td>27.18</td>\n",
       "      <td>2.00</td>\n",
       "      <td>Female</td>\n",
       "      <td>Yes</td>\n",
       "      <td>Sat</td>\n",
       "      <td>Dinner</td>\n",
       "      <td>2</td>\n",
       "    </tr>\n",
       "    <tr>\n",
       "      <th>241</th>\n",
       "      <td>22.67</td>\n",
       "      <td>2.00</td>\n",
       "      <td>Male</td>\n",
       "      <td>Yes</td>\n",
       "      <td>Sat</td>\n",
       "      <td>Dinner</td>\n",
       "      <td>2</td>\n",
       "    </tr>\n",
       "    <tr>\n",
       "      <th>242</th>\n",
       "      <td>17.82</td>\n",
       "      <td>1.75</td>\n",
       "      <td>Male</td>\n",
       "      <td>No</td>\n",
       "      <td>Sat</td>\n",
       "      <td>Dinner</td>\n",
       "      <td>2</td>\n",
       "    </tr>\n",
       "    <tr>\n",
       "      <th>243</th>\n",
       "      <td>18.78</td>\n",
       "      <td>3.00</td>\n",
       "      <td>Female</td>\n",
       "      <td>No</td>\n",
       "      <td>Thur</td>\n",
       "      <td>Dinner</td>\n",
       "      <td>2</td>\n",
       "    </tr>\n",
       "  </tbody>\n",
       "</table>\n",
       "<p>244 rows × 7 columns</p>\n",
       "</div>"
      ],
      "text/plain": [
       "     total_bill   tip     sex smoker   day    time  size\n",
       "0         16.99  1.01  Female     No   Sun  Dinner     2\n",
       "1         10.34  1.66    Male     No   Sun  Dinner     3\n",
       "2         21.01  3.50    Male     No   Sun  Dinner     3\n",
       "3         23.68  3.31    Male     No   Sun  Dinner     2\n",
       "4         24.59  3.61  Female     No   Sun  Dinner     4\n",
       "..          ...   ...     ...    ...   ...     ...   ...\n",
       "239       29.03  5.92    Male     No   Sat  Dinner     3\n",
       "240       27.18  2.00  Female    Yes   Sat  Dinner     2\n",
       "241       22.67  2.00    Male    Yes   Sat  Dinner     2\n",
       "242       17.82  1.75    Male     No   Sat  Dinner     2\n",
       "243       18.78  3.00  Female     No  Thur  Dinner     2\n",
       "\n",
       "[244 rows x 7 columns]"
      ]
     },
     "execution_count": 90,
     "metadata": {},
     "output_type": "execute_result"
    }
   ],
   "source": [
    "df"
   ]
  },
  {
   "cell_type": "markdown",
   "id": "30933b1d-1fec-46f6-9ff4-7053231e6c0f",
   "metadata": {},
   "source": [
    "How to know if the data if normally distributed or not"
   ]
  },
  {
   "cell_type": "markdown",
   "id": "586d1a66-ca36-4c84-bb00-0b7f94ede65a",
   "metadata": {},
   "source": [
    "1 Make distribution or Q-Q plt\n",
    "2 If mean=median=mode\n",
    "3 statistical test to know if the data is normally distributed"
   ]
  },
  {
   "cell_type": "code",
   "execution_count": 91,
   "id": "78efbd3a-6a07-41e1-8f12-6a488e94e7c3",
   "metadata": {},
   "outputs": [],
   "source": [
    "data = pd.read_csv(\"https://raw.githubusercontent.com/shrikant-temburwar/Wine-Quality-Dataset/master/winequality-red.csv\", sep = \";\")"
   ]
  },
  {
   "cell_type": "markdown",
   "id": "34cf4bb2-9d9e-4abf-bf40-5fa55d1a561a",
   "metadata": {},
   "source": [
    "chi-square Test"
   ]
  },
  {
   "cell_type": "code",
   "execution_count": 92,
   "id": "69cb48bf-3732-4d4d-adef-b902b6d6d2fe",
   "metadata": {},
   "outputs": [
    {
     "data": {
      "text/html": [
       "<div>\n",
       "<style scoped>\n",
       "    .dataframe tbody tr th:only-of-type {\n",
       "        vertical-align: middle;\n",
       "    }\n",
       "\n",
       "    .dataframe tbody tr th {\n",
       "        vertical-align: top;\n",
       "    }\n",
       "\n",
       "    .dataframe thead th {\n",
       "        text-align: right;\n",
       "    }\n",
       "</style>\n",
       "<table border=\"1\" class=\"dataframe\">\n",
       "  <thead>\n",
       "    <tr style=\"text-align: right;\">\n",
       "      <th></th>\n",
       "      <th>total_bill</th>\n",
       "      <th>tip</th>\n",
       "      <th>sex</th>\n",
       "      <th>smoker</th>\n",
       "      <th>day</th>\n",
       "      <th>time</th>\n",
       "      <th>size</th>\n",
       "    </tr>\n",
       "  </thead>\n",
       "  <tbody>\n",
       "    <tr>\n",
       "      <th>0</th>\n",
       "      <td>16.99</td>\n",
       "      <td>1.01</td>\n",
       "      <td>Female</td>\n",
       "      <td>No</td>\n",
       "      <td>Sun</td>\n",
       "      <td>Dinner</td>\n",
       "      <td>2</td>\n",
       "    </tr>\n",
       "    <tr>\n",
       "      <th>1</th>\n",
       "      <td>10.34</td>\n",
       "      <td>1.66</td>\n",
       "      <td>Male</td>\n",
       "      <td>No</td>\n",
       "      <td>Sun</td>\n",
       "      <td>Dinner</td>\n",
       "      <td>3</td>\n",
       "    </tr>\n",
       "    <tr>\n",
       "      <th>2</th>\n",
       "      <td>21.01</td>\n",
       "      <td>3.50</td>\n",
       "      <td>Male</td>\n",
       "      <td>No</td>\n",
       "      <td>Sun</td>\n",
       "      <td>Dinner</td>\n",
       "      <td>3</td>\n",
       "    </tr>\n",
       "    <tr>\n",
       "      <th>3</th>\n",
       "      <td>23.68</td>\n",
       "      <td>3.31</td>\n",
       "      <td>Male</td>\n",
       "      <td>No</td>\n",
       "      <td>Sun</td>\n",
       "      <td>Dinner</td>\n",
       "      <td>2</td>\n",
       "    </tr>\n",
       "    <tr>\n",
       "      <th>4</th>\n",
       "      <td>24.59</td>\n",
       "      <td>3.61</td>\n",
       "      <td>Female</td>\n",
       "      <td>No</td>\n",
       "      <td>Sun</td>\n",
       "      <td>Dinner</td>\n",
       "      <td>4</td>\n",
       "    </tr>\n",
       "    <tr>\n",
       "      <th>...</th>\n",
       "      <td>...</td>\n",
       "      <td>...</td>\n",
       "      <td>...</td>\n",
       "      <td>...</td>\n",
       "      <td>...</td>\n",
       "      <td>...</td>\n",
       "      <td>...</td>\n",
       "    </tr>\n",
       "    <tr>\n",
       "      <th>239</th>\n",
       "      <td>29.03</td>\n",
       "      <td>5.92</td>\n",
       "      <td>Male</td>\n",
       "      <td>No</td>\n",
       "      <td>Sat</td>\n",
       "      <td>Dinner</td>\n",
       "      <td>3</td>\n",
       "    </tr>\n",
       "    <tr>\n",
       "      <th>240</th>\n",
       "      <td>27.18</td>\n",
       "      <td>2.00</td>\n",
       "      <td>Female</td>\n",
       "      <td>Yes</td>\n",
       "      <td>Sat</td>\n",
       "      <td>Dinner</td>\n",
       "      <td>2</td>\n",
       "    </tr>\n",
       "    <tr>\n",
       "      <th>241</th>\n",
       "      <td>22.67</td>\n",
       "      <td>2.00</td>\n",
       "      <td>Male</td>\n",
       "      <td>Yes</td>\n",
       "      <td>Sat</td>\n",
       "      <td>Dinner</td>\n",
       "      <td>2</td>\n",
       "    </tr>\n",
       "    <tr>\n",
       "      <th>242</th>\n",
       "      <td>17.82</td>\n",
       "      <td>1.75</td>\n",
       "      <td>Male</td>\n",
       "      <td>No</td>\n",
       "      <td>Sat</td>\n",
       "      <td>Dinner</td>\n",
       "      <td>2</td>\n",
       "    </tr>\n",
       "    <tr>\n",
       "      <th>243</th>\n",
       "      <td>18.78</td>\n",
       "      <td>3.00</td>\n",
       "      <td>Female</td>\n",
       "      <td>No</td>\n",
       "      <td>Thur</td>\n",
       "      <td>Dinner</td>\n",
       "      <td>2</td>\n",
       "    </tr>\n",
       "  </tbody>\n",
       "</table>\n",
       "<p>244 rows × 7 columns</p>\n",
       "</div>"
      ],
      "text/plain": [
       "     total_bill   tip     sex smoker   day    time  size\n",
       "0         16.99  1.01  Female     No   Sun  Dinner     2\n",
       "1         10.34  1.66    Male     No   Sun  Dinner     3\n",
       "2         21.01  3.50    Male     No   Sun  Dinner     3\n",
       "3         23.68  3.31    Male     No   Sun  Dinner     2\n",
       "4         24.59  3.61  Female     No   Sun  Dinner     4\n",
       "..          ...   ...     ...    ...   ...     ...   ...\n",
       "239       29.03  5.92    Male     No   Sat  Dinner     3\n",
       "240       27.18  2.00  Female    Yes   Sat  Dinner     2\n",
       "241       22.67  2.00    Male    Yes   Sat  Dinner     2\n",
       "242       17.82  1.75    Male     No   Sat  Dinner     2\n",
       "243       18.78  3.00  Female     No  Thur  Dinner     2\n",
       "\n",
       "[244 rows x 7 columns]"
      ]
     },
     "execution_count": 92,
     "metadata": {},
     "output_type": "execute_result"
    }
   ],
   "source": [
    "df"
   ]
  },
  {
   "cell_type": "code",
   "execution_count": 93,
   "id": "b7549684-e05d-483b-8a9a-af4e6f6d270a",
   "metadata": {},
   "outputs": [],
   "source": [
    "data_table=pd.crosstab(df['sex'],df['smoker'])"
   ]
  },
  {
   "cell_type": "code",
   "execution_count": 94,
   "id": "e76067af-8994-4de4-996a-1ee03985f15d",
   "metadata": {},
   "outputs": [
    {
     "data": {
      "text/html": [
       "<div>\n",
       "<style scoped>\n",
       "    .dataframe tbody tr th:only-of-type {\n",
       "        vertical-align: middle;\n",
       "    }\n",
       "\n",
       "    .dataframe tbody tr th {\n",
       "        vertical-align: top;\n",
       "    }\n",
       "\n",
       "    .dataframe thead th {\n",
       "        text-align: right;\n",
       "    }\n",
       "</style>\n",
       "<table border=\"1\" class=\"dataframe\">\n",
       "  <thead>\n",
       "    <tr style=\"text-align: right;\">\n",
       "      <th>smoker</th>\n",
       "      <th>Yes</th>\n",
       "      <th>No</th>\n",
       "    </tr>\n",
       "    <tr>\n",
       "      <th>sex</th>\n",
       "      <th></th>\n",
       "      <th></th>\n",
       "    </tr>\n",
       "  </thead>\n",
       "  <tbody>\n",
       "    <tr>\n",
       "      <th>Male</th>\n",
       "      <td>60</td>\n",
       "      <td>97</td>\n",
       "    </tr>\n",
       "    <tr>\n",
       "      <th>Female</th>\n",
       "      <td>33</td>\n",
       "      <td>54</td>\n",
       "    </tr>\n",
       "  </tbody>\n",
       "</table>\n",
       "</div>"
      ],
      "text/plain": [
       "smoker  Yes  No\n",
       "sex            \n",
       "Male     60  97\n",
       "Female   33  54"
      ]
     },
     "execution_count": 94,
     "metadata": {},
     "output_type": "execute_result"
    }
   ],
   "source": [
    "data_table"
   ]
  },
  {
   "cell_type": "code",
   "execution_count": 95,
   "id": "a225813f-9889-4bcb-b43c-24c74796102c",
   "metadata": {},
   "outputs": [],
   "source": [
    "#chi square test>> through two ways"
   ]
  },
  {
   "cell_type": "code",
   "execution_count": 96,
   "id": "ae81a381-dad6-4f6d-ad32-8e203255b1e6",
   "metadata": {},
   "outputs": [],
   "source": [
    "#observed value and expected value\n",
    "observed_values = data_table.values"
   ]
  },
  {
   "cell_type": "code",
   "execution_count": 97,
   "id": "b45e6e3a-c0e5-4272-ae9c-5b6201c8a299",
   "metadata": {},
   "outputs": [
    {
     "data": {
      "text/plain": [
       "array([[60, 97],\n",
       "       [33, 54]], dtype=int64)"
      ]
     },
     "execution_count": 97,
     "metadata": {},
     "output_type": "execute_result"
    }
   ],
   "source": [
    "observed_values"
   ]
  },
  {
   "cell_type": "code",
   "execution_count": 100,
   "id": "2ccd60fc-4116-4fa6-b6d6-5eafd1d3b54e",
   "metadata": {},
   "outputs": [],
   "source": [
    "#1st approach >> allowing chi2 itself some expercted values\n",
    "stats_test,p,dof,expected_values=stats.chi2_contingency(observed_values)"
   ]
  },
  {
   "cell_type": "code",
   "execution_count": 102,
   "id": "28565542-ca03-4189-8076-09d6230eb051",
   "metadata": {},
   "outputs": [
    {
     "data": {
      "text/plain": [
       "array([[59.84016393, 97.15983607],\n",
       "       [33.15983607, 53.84016393]])"
      ]
     },
     "execution_count": 102,
     "metadata": {},
     "output_type": "execute_result"
    }
   ],
   "source": [
    "expected_values"
   ]
  },
  {
   "cell_type": "code",
   "execution_count": 103,
   "id": "2a99e808-122f-4045-bf17-87c1859c1318",
   "metadata": {},
   "outputs": [],
   "source": [
    "#formula- (O-E)**2/E"
   ]
  },
  {
   "cell_type": "code",
   "execution_count": 104,
   "id": "8bf6305f-26c2-45b0-9260-9febd1073180",
   "metadata": {},
   "outputs": [
    {
     "data": {
      "text/plain": [
       "array([[60, 97],\n",
       "       [33, 54]], dtype=int64)"
      ]
     },
     "execution_count": 104,
     "metadata": {},
     "output_type": "execute_result"
    }
   ],
   "source": [
    "observed_values"
   ]
  },
  {
   "cell_type": "code",
   "execution_count": 106,
   "id": "bc433fe7-0fb6-4e91-a03d-ce581b8047e1",
   "metadata": {},
   "outputs": [
    {
     "name": "stdout",
     "output_type": "stream",
     "text": [
      "(array([60, 97], dtype=int64), array([59.84016393, 97.15983607]))\n",
      "(array([33, 54], dtype=int64), array([33.15983607, 53.84016393]))\n"
     ]
    }
   ],
   "source": [
    "for i in zip(observed_values,expected_values):\n",
    "    print(i)"
   ]
  },
  {
   "cell_type": "code",
   "execution_count": 109,
   "id": "62ea13a0-7167-4da4-a483-1860e93e0198",
   "metadata": {},
   "outputs": [],
   "source": [
    "chisquare_test=sum([(o-e)**2/e for o,e in zip(observed_values,expected_values)])"
   ]
  },
  {
   "cell_type": "code",
   "execution_count": 111,
   "id": "013c404d-98c6-4f7b-b43e-6e719d6f1880",
   "metadata": {},
   "outputs": [],
   "source": [
    "chisquare_stats=chisquare_test[0]+chisquare_test[1]"
   ]
  },
  {
   "cell_type": "code",
   "execution_count": 112,
   "id": "2786df74-19b7-4ccf-8a3e-8804d742ad5e",
   "metadata": {},
   "outputs": [
    {
     "data": {
      "text/plain": [
       "0.001934818536627623"
      ]
     },
     "execution_count": 112,
     "metadata": {},
     "output_type": "execute_result"
    }
   ],
   "source": [
    "chisquare_stats"
   ]
  },
  {
   "cell_type": "code",
   "execution_count": 113,
   "id": "e96dfd35-6dc0-4e62-8884-6f057b35dca2",
   "metadata": {},
   "outputs": [
    {
     "data": {
      "text/plain": [
       "1"
      ]
     },
     "execution_count": 113,
     "metadata": {},
     "output_type": "execute_result"
    }
   ],
   "source": [
    "dof"
   ]
  },
  {
   "cell_type": "code",
   "execution_count": 114,
   "id": "48cdfac0-e2c9-4b95-89a3-e082a9e25b68",
   "metadata": {},
   "outputs": [
    {
     "data": {
      "text/plain": [
       "0.05"
      ]
     },
     "execution_count": 114,
     "metadata": {},
     "output_type": "execute_result"
    }
   ],
   "source": [
    "alpha"
   ]
  },
  {
   "cell_type": "code",
   "execution_count": 115,
   "id": "a0b9bc09-43fe-4799-b96a-e0cc80251af6",
   "metadata": {},
   "outputs": [],
   "source": [
    "chi2_critical=stats.chi2.ppf(1-alpha,df=dof)"
   ]
  },
  {
   "cell_type": "code",
   "execution_count": 116,
   "id": "7a626abf-50ad-4d79-b7a9-e688331336fd",
   "metadata": {},
   "outputs": [
    {
     "data": {
      "text/plain": [
       "3.841458820694124"
      ]
     },
     "execution_count": 116,
     "metadata": {},
     "output_type": "execute_result"
    }
   ],
   "source": [
    "chi2_critical"
   ]
  },
  {
   "cell_type": "code",
   "execution_count": 119,
   "id": "bbb6f4e9-21c2-4d8f-922f-4f7d0081da58",
   "metadata": {},
   "outputs": [
    {
     "name": "stdout",
     "output_type": "stream",
     "text": [
      "Fail to reject H0\n"
     ]
    }
   ],
   "source": [
    "if chisquare_stats>chi2_critical:\n",
    "    print(\"Reject H0 there is a relationship between two categorical variable\")\n",
    "else:\n",
    "    print(\"Fail to reject H0\")"
   ]
  },
  {
   "cell_type": "code",
   "execution_count": 121,
   "id": "6dd17c6a-c57a-44fe-82dc-8bdeee349cb9",
   "metadata": {},
   "outputs": [],
   "source": [
    "pvalue=1-stats.chi2.cdf(x=chisquare_stats,df=dof)"
   ]
  },
  {
   "cell_type": "code",
   "execution_count": 122,
   "id": "67d9e2e9-a03c-4c2c-be44-7622cad10f84",
   "metadata": {},
   "outputs": [
    {
     "data": {
      "text/plain": [
       "0.964915107315732"
      ]
     },
     "execution_count": 122,
     "metadata": {},
     "output_type": "execute_result"
    }
   ],
   "source": [
    "pvalue"
   ]
  },
  {
   "cell_type": "code",
   "execution_count": 123,
   "id": "2f436294-fa71-492a-a1ea-16707cd45a8c",
   "metadata": {},
   "outputs": [
    {
     "name": "stdout",
     "output_type": "stream",
     "text": [
      "Fail to reject H0\n"
     ]
    }
   ],
   "source": [
    "if pvalue<=alpha:\n",
    "    print(\"Reject H0 there is a relationship between two categorical variable\")\n",
    "else:\n",
    "    print(\"Fail to reject H0\")"
   ]
  },
  {
   "cell_type": "code",
   "execution_count": 124,
   "id": "814604d8-28cc-4e69-8732-50ff554d19ea",
   "metadata": {},
   "outputs": [],
   "source": [
    "# another approach\n",
    "# no of hours studies daily on a wages\n",
    "# mon,tues---sunday\n",
    "expected_data=[8,5,6,8,5,7,6]\n",
    "observed_data=[7,4,7,9,4,8,6]\n"
   ]
  },
  {
   "cell_type": "code",
   "execution_count": 125,
   "id": "6be4d9f4-472d-436e-b950-9ee193b4a720",
   "metadata": {},
   "outputs": [
    {
     "data": {
      "text/plain": [
       "(45, 45)"
      ]
     },
     "execution_count": 125,
     "metadata": {},
     "output_type": "execute_result"
    }
   ],
   "source": [
    "sum(expected_data),sum(observed_data)"
   ]
  },
  {
   "cell_type": "code",
   "execution_count": 127,
   "id": "0b46ef84-3ea2-4794-9029-fe3a53989712",
   "metadata": {},
   "outputs": [],
   "source": [
    "chi2_stats=stats.chisquare(observed_data,expected_data)"
   ]
  },
  {
   "cell_type": "code",
   "execution_count": 140,
   "id": "d6d89471-899a-4208-b236-e71be13bf542",
   "metadata": {},
   "outputs": [
    {
     "data": {
      "text/plain": [
       "Power_divergenceResult(statistic=0.9595238095238094, pvalue=0.9871002325555286)"
      ]
     },
     "execution_count": 140,
     "metadata": {},
     "output_type": "execute_result"
    }
   ],
   "source": [
    "chi2_stats"
   ]
  },
  {
   "cell_type": "code",
   "execution_count": 129,
   "id": "c2439cfd-f0e5-4b33-b912-463f1bb3a9f4",
   "metadata": {},
   "outputs": [],
   "source": [
    "#find critical Value"
   ]
  },
  {
   "cell_type": "code",
   "execution_count": 130,
   "id": "5cead81f-381d-44c4-8425-5aaed673b4d0",
   "metadata": {},
   "outputs": [
    {
     "data": {
      "text/plain": [
       "0.05"
      ]
     },
     "execution_count": 130,
     "metadata": {},
     "output_type": "execute_result"
    }
   ],
   "source": [
    "alpha"
   ]
  },
  {
   "cell_type": "code",
   "execution_count": 131,
   "id": "7ebeba9c-c1f6-4dae-8aa2-1cd9398515eb",
   "metadata": {},
   "outputs": [],
   "source": [
    "dof=len(observed_data)-1"
   ]
  },
  {
   "cell_type": "code",
   "execution_count": 132,
   "id": "09d84776-86e5-4d32-a2b9-2f5e9fc589f1",
   "metadata": {},
   "outputs": [
    {
     "data": {
      "text/plain": [
       "6"
      ]
     },
     "execution_count": 132,
     "metadata": {},
     "output_type": "execute_result"
    }
   ],
   "source": [
    "dof"
   ]
  },
  {
   "cell_type": "code",
   "execution_count": 135,
   "id": "2d550ff1-e5be-4d9d-86fc-fdc7fb550277",
   "metadata": {},
   "outputs": [],
   "source": [
    "critical_value=stats.chi2.ppf(1-alpha,dof)# 1-aplha=>confidence interval"
   ]
  },
  {
   "cell_type": "code",
   "execution_count": 136,
   "id": "0892aac9-a71e-44de-a607-b459c37f99fe",
   "metadata": {},
   "outputs": [
    {
     "data": {
      "text/plain": [
       "12.591587243743977"
      ]
     },
     "execution_count": 136,
     "metadata": {},
     "output_type": "execute_result"
    }
   ],
   "source": [
    "critical_value"
   ]
  },
  {
   "cell_type": "code",
   "execution_count": 142,
   "id": "82a65b9a-b74a-480c-a839-21bbe55d7a95",
   "metadata": {},
   "outputs": [
    {
     "name": "stdout",
     "output_type": "stream",
     "text": [
      "Fail to reject H0\n"
     ]
    }
   ],
   "source": [
    "if chi2_stats[0]>critical_value:\n",
    "    print(\"Reject H0 there is a relationship between two categorical variable\")\n",
    "else:\n",
    "    print(\"Fail to reject H0\")"
   ]
  },
  {
   "cell_type": "markdown",
   "id": "3818f0f1-ec9f-4da6-8a8d-63800e29a7ed",
   "metadata": {},
   "source": [
    "F-Test"
   ]
  },
  {
   "cell_type": "code",
   "execution_count": 144,
   "id": "41d43d81-cc34-4831-8291-59a51ec82dd9",
   "metadata": {},
   "outputs": [
    {
     "data": {
      "text/plain": [
       "0.743155149934811"
      ]
     },
     "execution_count": 144,
     "metadata": {},
     "output_type": "execute_result"
    }
   ],
   "source": [
    "worker1=[18,17,20,25,27,55,51,42,46,29]\n",
    "worker2=[18,16,22,26,39,51,48,44,58,12]\n",
    "fstats=np.var(worker1)/np.var(worker2)\n",
    "fstats"
   ]
  },
  {
   "cell_type": "code",
   "execution_count": 146,
   "id": "b4be4401-ba93-4066-a403-98d286a7483e",
   "metadata": {},
   "outputs": [],
   "source": [
    "df1=len(worker1)-1\n",
    "df2=len(worker2)-1\n",
    "alpha=0.05"
   ]
  },
  {
   "cell_type": "code",
   "execution_count": 147,
   "id": "302ca27d-2ffc-4f0a-a50a-5e05f256328f",
   "metadata": {},
   "outputs": [
    {
     "data": {
      "text/plain": [
       "(9, 9)"
      ]
     },
     "execution_count": 147,
     "metadata": {},
     "output_type": "execute_result"
    }
   ],
   "source": [
    "df1,df2"
   ]
  },
  {
   "cell_type": "code",
   "execution_count": 150,
   "id": "5e586355-9aa9-4296-a2e9-0cd9a4e55374",
   "metadata": {},
   "outputs": [],
   "source": [
    "critical_value=stats.f.ppf(1-alpha,dfn=df1,dfd=df2)"
   ]
  },
  {
   "cell_type": "code",
   "execution_count": 151,
   "id": "a27fd71d-8536-456f-a193-f338f69135d2",
   "metadata": {},
   "outputs": [
    {
     "name": "stdout",
     "output_type": "stream",
     "text": [
      "Fail to Reject the H0\n"
     ]
    }
   ],
   "source": [
    "if fstats>critical_value:\n",
    "    print(\"Reject the H0\")\n",
    "else:\n",
    "    print(\"Fail to Reject the H0\")"
   ]
  },
  {
   "cell_type": "markdown",
   "id": "c7302133-e224-4861-bc38-13fefbc2462c",
   "metadata": {},
   "source": [
    "Annova Test - to compare two or more than two means"
   ]
  },
  {
   "cell_type": "code",
   "execution_count": null,
   "id": "1cfa0cd7-964b-4af1-b436-ad8f342b289a",
   "metadata": {},
   "outputs": [],
   "source": []
  }
 ],
 "metadata": {
  "kernelspec": {
   "display_name": "Python 3 (ipykernel)",
   "language": "python",
   "name": "python3"
  },
  "language_info": {
   "codemirror_mode": {
    "name": "ipython",
    "version": 3
   },
   "file_extension": ".py",
   "mimetype": "text/x-python",
   "name": "python",
   "nbconvert_exporter": "python",
   "pygments_lexer": "ipython3",
   "version": "3.11.5"
  }
 },
 "nbformat": 4,
 "nbformat_minor": 5
}
